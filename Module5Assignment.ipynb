{
 "cells": [
  {
   "cell_type": "markdown",
   "metadata": {
    "id": "CcUT6Fon_qRE"
   },
   "source": [
    "### Required Assignment 5.1: Will the Customer Accept the Coupon?\n",
    "\n",
    "**Context**\n",
    "\n",
    "Imagine driving through town and a coupon is delivered to your cell phone for a restaurant near where you are driving. Would you accept that coupon and take a short detour to the restaurant? Would you accept the coupon but use it on a subsequent trip? Would you ignore the coupon entirely? What if the coupon was for a bar instead of a restaurant? What about a coffee house? Would you accept a bar coupon with a minor passenger in the car? What about if it was just you and your partner in the car? Would weather impact the rate of acceptance? What about the time of day?\n",
    "\n",
    "Obviously, proximity to the business is a factor on whether the coupon is delivered to the driver or not, but what are the factors that determine whether a driver accepts the coupon once it is delivered to them? How would you determine whether a driver is likely to accept a coupon?\n",
    "\n",
    "**Overview**\n",
    "\n",
    "The goal of this project is to use what you know about visualizations and probability distributions to distinguish between customers who accepted a driving coupon versus those that did not.\n",
    "\n",
    "**Data**\n",
    "\n",
    "This data comes to us from the UCI Machine Learning repository and was collected via a survey on Amazon Mechanical Turk. The survey describes different driving scenarios including the destination, current time, weather, passenger, etc., and then ask the person whether he will accept the coupon if he is the driver. Answers that the user will drive there ‘right away’ or ‘later before the coupon expires’ are labeled as ‘Y = 1’ and answers ‘no, I do not want the coupon’ are labeled as ‘Y = 0’.  There are five different types of coupons -- less expensive restaurants (under \\$20), coffee houses, carry out & take away, bar, and more expensive restaurants (\\$20 - $50)."
   ]
  },
  {
   "cell_type": "markdown",
   "metadata": {
    "id": "1wORvMBJ_qRF"
   },
   "source": [
    "**Deliverables**\n",
    "\n",
    "Your final product should be a brief report that highlights the differences between customers who did and did not accept the coupons.  To explore the data you will utilize your knowledge of plotting, statistical summaries, and visualization using Python. You will publish your findings in a public facing github repository as your first portfolio piece.\n",
    "\n",
    "\n",
    "\n"
   ]
  },
  {
   "cell_type": "markdown",
   "metadata": {
    "id": "pG6_Ym6q_qRG"
   },
   "source": [
    "### Data Description\n",
    "Keep in mind that these values mentioned below are average values.\n",
    "\n",
    "The attributes of this data set include:\n",
    "1. User attributes\n",
    "    -  Gender: male, female\n",
    "    -  Age: below 21, 21 to 25, 26 to 30, etc.\n",
    "    -  Marital Status: single, married partner, unmarried partner, or widowed\n",
    "    -  Number of children: 0, 1, or more than 1\n",
    "    -  Education: high school, bachelors degree, associates degree, or graduate degree\n",
    "    -  Occupation: architecture & engineering, business & financial, etc.\n",
    "    -  Annual income: less than \\\\$12500, \\\\$12500 - \\\\$24999, \\\\$25000 - \\\\$37499, etc.\n",
    "    -  Number of times that he/she goes to a bar: 0, less than 1, 1 to 3, 4 to 8 or greater than 8\n",
    "    -  Number of times that he/she buys takeaway food: 0, less than 1, 1 to 3, 4 to 8 or greater\n",
    "    than 8\n",
    "    -  Number of times that he/she goes to a coffee house: 0, less than 1, 1 to 3, 4 to 8 or\n",
    "    greater than 8\n",
    "    -  Number of times that he/she eats at a restaurant with average expense less than \\\\$20 per\n",
    "    person: 0, less than 1, 1 to 3, 4 to 8 or greater than 8\n",
    "    -  Number of times that he/she goes to a bar: 0, less than 1, 1 to 3, 4 to 8 or greater than 8\n",
    "    \n",
    "\n",
    "2. Contextual attributes\n",
    "    - Driving destination: home, work, or no urgent destination\n",
    "    - Location of user, coupon and destination: we provide a map to show the geographical\n",
    "    location of the user, destination, and the venue, and we mark the distance between each\n",
    "    two places with time of driving. The user can see whether the venue is in the same\n",
    "    direction as the destination.\n",
    "    - Weather: sunny, rainy, or snowy\n",
    "    - Temperature: 30F, 55F, or 80F\n",
    "    - Time: 10AM, 2PM, or 6PM\n",
    "    - Passenger: alone, partner, kid(s), or friend(s)\n",
    "\n",
    "\n",
    "3. Coupon attributes\n",
    "    - time before it expires: 2 hours or one day"
   ]
  },
  {
   "cell_type": "code",
   "execution_count": 14,
   "metadata": {
    "id": "dzNoP3o__qRG"
   },
   "outputs": [],
   "source": [
    "import matplotlib.pyplot as plt\n",
    "import seaborn as sns\n",
    "import pandas as pd\n",
    "import numpy as np"
   ]
  },
  {
   "cell_type": "markdown",
   "metadata": {
    "id": "Ct8pI1uE_qRG"
   },
   "source": [
    "### Problems\n",
    "\n",
    "Use the prompts below to get started with your data analysis.  \n",
    "\n",
    "1. Read in the `coupons.csv` file.\n",
    "\n",
    "\n"
   ]
  },
  {
   "cell_type": "code",
   "execution_count": 15,
   "metadata": {},
   "outputs": [],
   "source": [
    "# Reading the CSV file and putting the content in a pandas dataframe named 'data'\n",
    "data = pd.read_csv('data/coupons.csv')"
   ]
  },
  {
   "cell_type": "code",
   "execution_count": 16,
   "metadata": {},
   "outputs": [
    {
     "data": {
      "text/plain": [
       "(12684, 26)"
      ]
     },
     "execution_count": 16,
     "metadata": {},
     "output_type": "execute_result"
    }
   ],
   "source": [
    "data.shape\n",
    "# checking the size of the data frame i.e. number of rows and columns"
   ]
  },
  {
   "cell_type": "code",
   "execution_count": 17,
   "metadata": {
    "id": "X0vbffYg_qRH"
   },
   "outputs": [
    {
     "data": {
      "text/html": [
       "<div>\n",
       "<style scoped>\n",
       "    .dataframe tbody tr th:only-of-type {\n",
       "        vertical-align: middle;\n",
       "    }\n",
       "\n",
       "    .dataframe tbody tr th {\n",
       "        vertical-align: top;\n",
       "    }\n",
       "\n",
       "    .dataframe thead th {\n",
       "        text-align: right;\n",
       "    }\n",
       "</style>\n",
       "<table border=\"1\" class=\"dataframe\">\n",
       "  <thead>\n",
       "    <tr style=\"text-align: right;\">\n",
       "      <th></th>\n",
       "      <th>destination</th>\n",
       "      <th>passanger</th>\n",
       "      <th>weather</th>\n",
       "      <th>temperature</th>\n",
       "      <th>time</th>\n",
       "      <th>coupon</th>\n",
       "      <th>expiration</th>\n",
       "      <th>gender</th>\n",
       "      <th>age</th>\n",
       "      <th>maritalStatus</th>\n",
       "      <th>...</th>\n",
       "      <th>CoffeeHouse</th>\n",
       "      <th>CarryAway</th>\n",
       "      <th>RestaurantLessThan20</th>\n",
       "      <th>Restaurant20To50</th>\n",
       "      <th>toCoupon_GEQ5min</th>\n",
       "      <th>toCoupon_GEQ15min</th>\n",
       "      <th>toCoupon_GEQ25min</th>\n",
       "      <th>direction_same</th>\n",
       "      <th>direction_opp</th>\n",
       "      <th>Y</th>\n",
       "    </tr>\n",
       "  </thead>\n",
       "  <tbody>\n",
       "    <tr>\n",
       "      <th>0</th>\n",
       "      <td>No Urgent Place</td>\n",
       "      <td>Alone</td>\n",
       "      <td>Sunny</td>\n",
       "      <td>55</td>\n",
       "      <td>2PM</td>\n",
       "      <td>Restaurant(&lt;20)</td>\n",
       "      <td>1d</td>\n",
       "      <td>Female</td>\n",
       "      <td>21</td>\n",
       "      <td>Unmarried partner</td>\n",
       "      <td>...</td>\n",
       "      <td>never</td>\n",
       "      <td>NaN</td>\n",
       "      <td>4~8</td>\n",
       "      <td>1~3</td>\n",
       "      <td>1</td>\n",
       "      <td>0</td>\n",
       "      <td>0</td>\n",
       "      <td>0</td>\n",
       "      <td>1</td>\n",
       "      <td>1</td>\n",
       "    </tr>\n",
       "    <tr>\n",
       "      <th>1</th>\n",
       "      <td>No Urgent Place</td>\n",
       "      <td>Friend(s)</td>\n",
       "      <td>Sunny</td>\n",
       "      <td>80</td>\n",
       "      <td>10AM</td>\n",
       "      <td>Coffee House</td>\n",
       "      <td>2h</td>\n",
       "      <td>Female</td>\n",
       "      <td>21</td>\n",
       "      <td>Unmarried partner</td>\n",
       "      <td>...</td>\n",
       "      <td>never</td>\n",
       "      <td>NaN</td>\n",
       "      <td>4~8</td>\n",
       "      <td>1~3</td>\n",
       "      <td>1</td>\n",
       "      <td>0</td>\n",
       "      <td>0</td>\n",
       "      <td>0</td>\n",
       "      <td>1</td>\n",
       "      <td>0</td>\n",
       "    </tr>\n",
       "    <tr>\n",
       "      <th>2</th>\n",
       "      <td>No Urgent Place</td>\n",
       "      <td>Friend(s)</td>\n",
       "      <td>Sunny</td>\n",
       "      <td>80</td>\n",
       "      <td>10AM</td>\n",
       "      <td>Carry out &amp; Take away</td>\n",
       "      <td>2h</td>\n",
       "      <td>Female</td>\n",
       "      <td>21</td>\n",
       "      <td>Unmarried partner</td>\n",
       "      <td>...</td>\n",
       "      <td>never</td>\n",
       "      <td>NaN</td>\n",
       "      <td>4~8</td>\n",
       "      <td>1~3</td>\n",
       "      <td>1</td>\n",
       "      <td>1</td>\n",
       "      <td>0</td>\n",
       "      <td>0</td>\n",
       "      <td>1</td>\n",
       "      <td>1</td>\n",
       "    </tr>\n",
       "    <tr>\n",
       "      <th>3</th>\n",
       "      <td>No Urgent Place</td>\n",
       "      <td>Friend(s)</td>\n",
       "      <td>Sunny</td>\n",
       "      <td>80</td>\n",
       "      <td>2PM</td>\n",
       "      <td>Coffee House</td>\n",
       "      <td>2h</td>\n",
       "      <td>Female</td>\n",
       "      <td>21</td>\n",
       "      <td>Unmarried partner</td>\n",
       "      <td>...</td>\n",
       "      <td>never</td>\n",
       "      <td>NaN</td>\n",
       "      <td>4~8</td>\n",
       "      <td>1~3</td>\n",
       "      <td>1</td>\n",
       "      <td>1</td>\n",
       "      <td>0</td>\n",
       "      <td>0</td>\n",
       "      <td>1</td>\n",
       "      <td>0</td>\n",
       "    </tr>\n",
       "    <tr>\n",
       "      <th>4</th>\n",
       "      <td>No Urgent Place</td>\n",
       "      <td>Friend(s)</td>\n",
       "      <td>Sunny</td>\n",
       "      <td>80</td>\n",
       "      <td>2PM</td>\n",
       "      <td>Coffee House</td>\n",
       "      <td>1d</td>\n",
       "      <td>Female</td>\n",
       "      <td>21</td>\n",
       "      <td>Unmarried partner</td>\n",
       "      <td>...</td>\n",
       "      <td>never</td>\n",
       "      <td>NaN</td>\n",
       "      <td>4~8</td>\n",
       "      <td>1~3</td>\n",
       "      <td>1</td>\n",
       "      <td>1</td>\n",
       "      <td>0</td>\n",
       "      <td>0</td>\n",
       "      <td>1</td>\n",
       "      <td>0</td>\n",
       "    </tr>\n",
       "  </tbody>\n",
       "</table>\n",
       "<p>5 rows × 26 columns</p>\n",
       "</div>"
      ],
      "text/plain": [
       "       destination  passanger weather  temperature  time  \\\n",
       "0  No Urgent Place      Alone   Sunny           55   2PM   \n",
       "1  No Urgent Place  Friend(s)   Sunny           80  10AM   \n",
       "2  No Urgent Place  Friend(s)   Sunny           80  10AM   \n",
       "3  No Urgent Place  Friend(s)   Sunny           80   2PM   \n",
       "4  No Urgent Place  Friend(s)   Sunny           80   2PM   \n",
       "\n",
       "                  coupon expiration  gender age      maritalStatus  ...  \\\n",
       "0        Restaurant(<20)         1d  Female  21  Unmarried partner  ...   \n",
       "1           Coffee House         2h  Female  21  Unmarried partner  ...   \n",
       "2  Carry out & Take away         2h  Female  21  Unmarried partner  ...   \n",
       "3           Coffee House         2h  Female  21  Unmarried partner  ...   \n",
       "4           Coffee House         1d  Female  21  Unmarried partner  ...   \n",
       "\n",
       "   CoffeeHouse CarryAway RestaurantLessThan20 Restaurant20To50  \\\n",
       "0        never       NaN                  4~8              1~3   \n",
       "1        never       NaN                  4~8              1~3   \n",
       "2        never       NaN                  4~8              1~3   \n",
       "3        never       NaN                  4~8              1~3   \n",
       "4        never       NaN                  4~8              1~3   \n",
       "\n",
       "  toCoupon_GEQ5min toCoupon_GEQ15min toCoupon_GEQ25min direction_same  \\\n",
       "0                1                 0                 0              0   \n",
       "1                1                 0                 0              0   \n",
       "2                1                 1                 0              0   \n",
       "3                1                 1                 0              0   \n",
       "4                1                 1                 0              0   \n",
       "\n",
       "  direction_opp  Y  \n",
       "0             1  1  \n",
       "1             1  0  \n",
       "2             1  1  \n",
       "3             1  0  \n",
       "4             1  0  \n",
       "\n",
       "[5 rows x 26 columns]"
      ]
     },
     "execution_count": 17,
     "metadata": {},
     "output_type": "execute_result"
    }
   ],
   "source": [
    "# Show sample data \n",
    "data.head()"
   ]
  },
  {
   "cell_type": "code",
   "execution_count": 18,
   "metadata": {},
   "outputs": [
    {
     "name": "stdout",
     "output_type": "stream",
     "text": [
      "<class 'pandas.core.frame.DataFrame'>\n",
      "RangeIndex: 12684 entries, 0 to 12683\n",
      "Data columns (total 26 columns):\n",
      " #   Column                Non-Null Count  Dtype \n",
      "---  ------                --------------  ----- \n",
      " 0   destination           12684 non-null  object\n",
      " 1   passanger             12684 non-null  object\n",
      " 2   weather               12684 non-null  object\n",
      " 3   temperature           12684 non-null  int64 \n",
      " 4   time                  12684 non-null  object\n",
      " 5   coupon                12684 non-null  object\n",
      " 6   expiration            12684 non-null  object\n",
      " 7   gender                12684 non-null  object\n",
      " 8   age                   12684 non-null  object\n",
      " 9   maritalStatus         12684 non-null  object\n",
      " 10  has_children          12684 non-null  int64 \n",
      " 11  education             12684 non-null  object\n",
      " 12  occupation            12684 non-null  object\n",
      " 13  income                12684 non-null  object\n",
      " 14  car                   108 non-null    object\n",
      " 15  Bar                   12577 non-null  object\n",
      " 16  CoffeeHouse           12467 non-null  object\n",
      " 17  CarryAway             12533 non-null  object\n",
      " 18  RestaurantLessThan20  12554 non-null  object\n",
      " 19  Restaurant20To50      12495 non-null  object\n",
      " 20  toCoupon_GEQ5min      12684 non-null  int64 \n",
      " 21  toCoupon_GEQ15min     12684 non-null  int64 \n",
      " 22  toCoupon_GEQ25min     12684 non-null  int64 \n",
      " 23  direction_same        12684 non-null  int64 \n",
      " 24  direction_opp         12684 non-null  int64 \n",
      " 25  Y                     12684 non-null  int64 \n",
      "dtypes: int64(8), object(18)\n",
      "memory usage: 2.5+ MB\n"
     ]
    }
   ],
   "source": [
    "# See column types using the data.info() method\n",
    "data.info()"
   ]
  },
  {
   "cell_type": "markdown",
   "metadata": {
    "id": "GcDs78ZH_qRH"
   },
   "source": [
    "2. Investigate the dataset for missing or problematic data."
   ]
  },
  {
   "cell_type": "code",
   "execution_count": 19,
   "metadata": {},
   "outputs": [
    {
     "data": {
      "text/plain": [
       "(148, 26)"
      ]
     },
     "execution_count": 19,
     "metadata": {},
     "output_type": "execute_result"
    }
   ],
   "source": [
    "# Find if data has any duplicates, find the number of records which are duplicate\n",
    "# Use the function data.duplicated(keep= False) to filter all the duplicates\n",
    "duplicates = data[data.duplicated(keep=False)]\n",
    "duplicatesCount = duplicates.shape\n",
    "duplicatesCount\n"
   ]
  },
  {
   "cell_type": "code",
   "execution_count": 20,
   "metadata": {},
   "outputs": [
    {
     "data": {
      "text/plain": [
       "(12610, 26)"
      ]
     },
     "execution_count": 20,
     "metadata": {},
     "output_type": "execute_result"
    }
   ],
   "source": [
    "#dorpping duplicate records\n",
    "data= data.drop_duplicates()\n",
    "data.shape"
   ]
  },
  {
   "cell_type": "code",
   "execution_count": 21,
   "metadata": {},
   "outputs": [
    {
     "name": "stdout",
     "output_type": "stream",
     "text": [
      "destination                 0\n",
      "passanger                   0\n",
      "weather                     0\n",
      "temperature                 0\n",
      "time                        0\n",
      "coupon                      0\n",
      "expiration                  0\n",
      "gender                      0\n",
      "age                         0\n",
      "maritalStatus               0\n",
      "has_children                0\n",
      "education                   0\n",
      "occupation                  0\n",
      "income                      0\n",
      "car                     12502\n",
      "Bar                       107\n",
      "CoffeeHouse               217\n",
      "CarryAway                 150\n",
      "RestaurantLessThan20      129\n",
      "Restaurant20To50          189\n",
      "toCoupon_GEQ5min            0\n",
      "toCoupon_GEQ15min           0\n",
      "toCoupon_GEQ25min           0\n",
      "direction_same              0\n",
      "direction_opp               0\n",
      "Y                           0\n",
      "dtype: int64\n"
     ]
    }
   ],
   "source": [
    "#Finding the missing values in each column in the data set\n",
    "print(data.isnull().sum())\n",
    "# There are 6 columns having missing data"
   ]
  },
  {
   "cell_type": "code",
   "execution_count": 22,
   "metadata": {},
   "outputs": [
    {
     "data": {
      "text/plain": [
       "array(['21', '46', '26', '31', '41', '50plus', '36', 'below21'],\n",
       "      dtype=object)"
      ]
     },
     "execution_count": 22,
     "metadata": {},
     "output_type": "execute_result"
    }
   ],
   "source": [
    "# finding problematic data. \n",
    "data['age'].unique()"
   ]
  },
  {
   "cell_type": "markdown",
   "metadata": {
    "id": "bSdVSpYB_qRH"
   },
   "source": [
    "3. Decide what to do about your missing data -- drop, replace, other..."
   ]
  },
  {
   "cell_type": "code",
   "execution_count": null,
   "metadata": {},
   "outputs": [],
   "source": [
    "# 1. Ignoring missing data in Column \"Car\" as it shouldn't impact my analysis\n",
    "# 2. For all other columns, I am replacing the missing record by never. This is because the number of missing records when the coupon is of \n",
    "#  that type is negligible\n",
    "#For e.g the total number of records where Coupon ==  Bar is\n",
    "#the total number of records where Coupon == Bar and Bar isNull =  \n",
    "#which is negligible. Similar is the case for other columns. So I will replace all these missing records with never"
   ]
  },
  {
   "cell_type": "code",
   "execution_count": 10,
   "metadata": {},
   "outputs": [
    {
     "data": {
      "text/plain": [
       "2010"
      ]
     },
     "execution_count": 10,
     "metadata": {},
     "output_type": "execute_result"
    }
   ],
   "source": [
    "BarCount = data.query(\"coupon == 'Bar'\").shape[0]\n",
    "BarCount"
   ]
  },
  {
   "cell_type": "code",
   "execution_count": 12,
   "metadata": {},
   "outputs": [
    {
     "data": {
      "text/plain": [
       "np.int64(107)"
      ]
     },
     "execution_count": 12,
     "metadata": {},
     "output_type": "execute_result"
    }
   ],
   "source": [
    "BarCountNull = data['Bar'].isnull().sum()\n",
    "BarCountNull"
   ]
  },
  {
   "cell_type": "code",
   "execution_count": 23,
   "metadata": {},
   "outputs": [
    {
     "name": "stdout",
     "output_type": "stream",
     "text": [
      "destination                 0\n",
      "passanger                   0\n",
      "weather                     0\n",
      "temperature                 0\n",
      "time                        0\n",
      "coupon                      0\n",
      "expiration                  0\n",
      "gender                      0\n",
      "age                         0\n",
      "maritalStatus               0\n",
      "has_children                0\n",
      "education                   0\n",
      "occupation                  0\n",
      "income                      0\n",
      "car                     12502\n",
      "Bar                         0\n",
      "CoffeeHouse                 0\n",
      "CarryAway                   0\n",
      "RestaurantLessThan20        0\n",
      "Restaurant20To50            0\n",
      "toCoupon_GEQ5min            0\n",
      "toCoupon_GEQ15min           0\n",
      "toCoupon_GEQ25min           0\n",
      "direction_same              0\n",
      "direction_opp               0\n",
      "Y                           0\n",
      "dtype: int64\n"
     ]
    }
   ],
   "source": [
    "#replacing missing data from the 5 columns - making Null values to never\n",
    "data['Bar'] = data['Bar'].fillna('never')\n",
    "data['CoffeeHouse'] = data['CoffeeHouse'].fillna('never')\n",
    "data['CarryAway'] = data['CarryAway'].fillna('never')\n",
    "data['RestaurantLessThan20'] = data['RestaurantLessThan20'].fillna('never')\n",
    "data['Restaurant20To50'] = data['Restaurant20To50'].fillna('never')\n",
    "print(data.isnull().sum())\n",
    "\n"
   ]
  },
  {
   "cell_type": "code",
   "execution_count": 24,
   "metadata": {},
   "outputs": [],
   "source": [
    "# for the ease of filtering, I am replacing age values of 'blow21' and '50plus' by 20 and 51 respectively\n",
    "\n",
    "data['age']=data['age'].replace('50plus', 51)\n",
    "data['age']=data['age'].replace('below21',20)\n"
   ]
  },
  {
   "cell_type": "code",
   "execution_count": 25,
   "metadata": {},
   "outputs": [],
   "source": [
    "#changing the type of column to Numberic\n",
    "\n",
    "data['age']= data['age'].astype('int')"
   ]
  },
  {
   "cell_type": "code",
   "execution_count": 132,
   "metadata": {
    "id": "tyvoAC5F_qRI"
   },
   "outputs": [
    {
     "data": {
      "text/html": [
       "<div>\n",
       "<style scoped>\n",
       "    .dataframe tbody tr th:only-of-type {\n",
       "        vertical-align: middle;\n",
       "    }\n",
       "\n",
       "    .dataframe tbody tr th {\n",
       "        vertical-align: top;\n",
       "    }\n",
       "\n",
       "    .dataframe thead th {\n",
       "        text-align: right;\n",
       "    }\n",
       "</style>\n",
       "<table border=\"1\" class=\"dataframe\">\n",
       "  <thead>\n",
       "    <tr style=\"text-align: right;\">\n",
       "      <th></th>\n",
       "      <th>destination</th>\n",
       "      <th>passanger</th>\n",
       "      <th>weather</th>\n",
       "      <th>temperature</th>\n",
       "      <th>time</th>\n",
       "      <th>coupon</th>\n",
       "      <th>expiration</th>\n",
       "      <th>gender</th>\n",
       "      <th>age</th>\n",
       "      <th>maritalStatus</th>\n",
       "      <th>...</th>\n",
       "      <th>CoffeeHouse</th>\n",
       "      <th>CarryAway</th>\n",
       "      <th>RestaurantLessThan20</th>\n",
       "      <th>Restaurant20To50</th>\n",
       "      <th>toCoupon_GEQ5min</th>\n",
       "      <th>toCoupon_GEQ15min</th>\n",
       "      <th>toCoupon_GEQ25min</th>\n",
       "      <th>direction_same</th>\n",
       "      <th>direction_opp</th>\n",
       "      <th>Y</th>\n",
       "    </tr>\n",
       "  </thead>\n",
       "  <tbody>\n",
       "    <tr>\n",
       "      <th>1215</th>\n",
       "      <td>No Urgent Place</td>\n",
       "      <td>Alone</td>\n",
       "      <td>Sunny</td>\n",
       "      <td>55</td>\n",
       "      <td>2PM</td>\n",
       "      <td>Restaurant(&lt;20)</td>\n",
       "      <td>24</td>\n",
       "      <td>Male</td>\n",
       "      <td>20</td>\n",
       "      <td>Single</td>\n",
       "      <td>...</td>\n",
       "      <td>1~3</td>\n",
       "      <td>1~3</td>\n",
       "      <td>never</td>\n",
       "      <td>1~3</td>\n",
       "      <td>1</td>\n",
       "      <td>0</td>\n",
       "      <td>0</td>\n",
       "      <td>0</td>\n",
       "      <td>1</td>\n",
       "      <td>1</td>\n",
       "    </tr>\n",
       "    <tr>\n",
       "      <th>1216</th>\n",
       "      <td>No Urgent Place</td>\n",
       "      <td>Friend(s)</td>\n",
       "      <td>Sunny</td>\n",
       "      <td>80</td>\n",
       "      <td>10AM</td>\n",
       "      <td>Coffee House</td>\n",
       "      <td>2</td>\n",
       "      <td>Male</td>\n",
       "      <td>20</td>\n",
       "      <td>Single</td>\n",
       "      <td>...</td>\n",
       "      <td>1~3</td>\n",
       "      <td>1~3</td>\n",
       "      <td>never</td>\n",
       "      <td>1~3</td>\n",
       "      <td>1</td>\n",
       "      <td>0</td>\n",
       "      <td>0</td>\n",
       "      <td>0</td>\n",
       "      <td>1</td>\n",
       "      <td>1</td>\n",
       "    </tr>\n",
       "    <tr>\n",
       "      <th>1217</th>\n",
       "      <td>No Urgent Place</td>\n",
       "      <td>Friend(s)</td>\n",
       "      <td>Sunny</td>\n",
       "      <td>80</td>\n",
       "      <td>10AM</td>\n",
       "      <td>Bar</td>\n",
       "      <td>24</td>\n",
       "      <td>Male</td>\n",
       "      <td>20</td>\n",
       "      <td>Single</td>\n",
       "      <td>...</td>\n",
       "      <td>1~3</td>\n",
       "      <td>1~3</td>\n",
       "      <td>never</td>\n",
       "      <td>1~3</td>\n",
       "      <td>1</td>\n",
       "      <td>0</td>\n",
       "      <td>0</td>\n",
       "      <td>0</td>\n",
       "      <td>1</td>\n",
       "      <td>1</td>\n",
       "    </tr>\n",
       "    <tr>\n",
       "      <th>1218</th>\n",
       "      <td>No Urgent Place</td>\n",
       "      <td>Friend(s)</td>\n",
       "      <td>Sunny</td>\n",
       "      <td>80</td>\n",
       "      <td>10AM</td>\n",
       "      <td>Carry out &amp; Take away</td>\n",
       "      <td>2</td>\n",
       "      <td>Male</td>\n",
       "      <td>20</td>\n",
       "      <td>Single</td>\n",
       "      <td>...</td>\n",
       "      <td>1~3</td>\n",
       "      <td>1~3</td>\n",
       "      <td>never</td>\n",
       "      <td>1~3</td>\n",
       "      <td>1</td>\n",
       "      <td>1</td>\n",
       "      <td>0</td>\n",
       "      <td>0</td>\n",
       "      <td>1</td>\n",
       "      <td>1</td>\n",
       "    </tr>\n",
       "    <tr>\n",
       "      <th>1219</th>\n",
       "      <td>No Urgent Place</td>\n",
       "      <td>Friend(s)</td>\n",
       "      <td>Sunny</td>\n",
       "      <td>80</td>\n",
       "      <td>2PM</td>\n",
       "      <td>Coffee House</td>\n",
       "      <td>24</td>\n",
       "      <td>Male</td>\n",
       "      <td>20</td>\n",
       "      <td>Single</td>\n",
       "      <td>...</td>\n",
       "      <td>1~3</td>\n",
       "      <td>1~3</td>\n",
       "      <td>never</td>\n",
       "      <td>1~3</td>\n",
       "      <td>1</td>\n",
       "      <td>0</td>\n",
       "      <td>0</td>\n",
       "      <td>0</td>\n",
       "      <td>1</td>\n",
       "      <td>1</td>\n",
       "    </tr>\n",
       "    <tr>\n",
       "      <th>...</th>\n",
       "      <td>...</td>\n",
       "      <td>...</td>\n",
       "      <td>...</td>\n",
       "      <td>...</td>\n",
       "      <td>...</td>\n",
       "      <td>...</td>\n",
       "      <td>...</td>\n",
       "      <td>...</td>\n",
       "      <td>...</td>\n",
       "      <td>...</td>\n",
       "      <td>...</td>\n",
       "      <td>...</td>\n",
       "      <td>...</td>\n",
       "      <td>...</td>\n",
       "      <td>...</td>\n",
       "      <td>...</td>\n",
       "      <td>...</td>\n",
       "      <td>...</td>\n",
       "      <td>...</td>\n",
       "      <td>...</td>\n",
       "      <td>...</td>\n",
       "    </tr>\n",
       "    <tr>\n",
       "      <th>11927</th>\n",
       "      <td>Work</td>\n",
       "      <td>Alone</td>\n",
       "      <td>Rainy</td>\n",
       "      <td>55</td>\n",
       "      <td>7AM</td>\n",
       "      <td>Carry out &amp; Take away</td>\n",
       "      <td>24</td>\n",
       "      <td>Female</td>\n",
       "      <td>20</td>\n",
       "      <td>Single</td>\n",
       "      <td>...</td>\n",
       "      <td>less1</td>\n",
       "      <td>1~3</td>\n",
       "      <td>1~3</td>\n",
       "      <td>1~3</td>\n",
       "      <td>1</td>\n",
       "      <td>0</td>\n",
       "      <td>0</td>\n",
       "      <td>0</td>\n",
       "      <td>1</td>\n",
       "      <td>1</td>\n",
       "    </tr>\n",
       "    <tr>\n",
       "      <th>11928</th>\n",
       "      <td>Work</td>\n",
       "      <td>Alone</td>\n",
       "      <td>Snowy</td>\n",
       "      <td>30</td>\n",
       "      <td>7AM</td>\n",
       "      <td>Coffee House</td>\n",
       "      <td>24</td>\n",
       "      <td>Female</td>\n",
       "      <td>20</td>\n",
       "      <td>Single</td>\n",
       "      <td>...</td>\n",
       "      <td>less1</td>\n",
       "      <td>1~3</td>\n",
       "      <td>1~3</td>\n",
       "      <td>1~3</td>\n",
       "      <td>1</td>\n",
       "      <td>0</td>\n",
       "      <td>0</td>\n",
       "      <td>1</td>\n",
       "      <td>0</td>\n",
       "      <td>1</td>\n",
       "    </tr>\n",
       "    <tr>\n",
       "      <th>11929</th>\n",
       "      <td>Work</td>\n",
       "      <td>Alone</td>\n",
       "      <td>Snowy</td>\n",
       "      <td>30</td>\n",
       "      <td>7AM</td>\n",
       "      <td>Restaurant(&lt;20)</td>\n",
       "      <td>24</td>\n",
       "      <td>Female</td>\n",
       "      <td>20</td>\n",
       "      <td>Single</td>\n",
       "      <td>...</td>\n",
       "      <td>less1</td>\n",
       "      <td>1~3</td>\n",
       "      <td>1~3</td>\n",
       "      <td>1~3</td>\n",
       "      <td>1</td>\n",
       "      <td>1</td>\n",
       "      <td>0</td>\n",
       "      <td>0</td>\n",
       "      <td>1</td>\n",
       "      <td>1</td>\n",
       "    </tr>\n",
       "    <tr>\n",
       "      <th>11930</th>\n",
       "      <td>Work</td>\n",
       "      <td>Alone</td>\n",
       "      <td>Snowy</td>\n",
       "      <td>30</td>\n",
       "      <td>7AM</td>\n",
       "      <td>Bar</td>\n",
       "      <td>24</td>\n",
       "      <td>Female</td>\n",
       "      <td>20</td>\n",
       "      <td>Single</td>\n",
       "      <td>...</td>\n",
       "      <td>less1</td>\n",
       "      <td>1~3</td>\n",
       "      <td>1~3</td>\n",
       "      <td>1~3</td>\n",
       "      <td>1</td>\n",
       "      <td>1</td>\n",
       "      <td>1</td>\n",
       "      <td>0</td>\n",
       "      <td>1</td>\n",
       "      <td>1</td>\n",
       "    </tr>\n",
       "    <tr>\n",
       "      <th>11931</th>\n",
       "      <td>Work</td>\n",
       "      <td>Alone</td>\n",
       "      <td>Sunny</td>\n",
       "      <td>80</td>\n",
       "      <td>7AM</td>\n",
       "      <td>Restaurant(20-50)</td>\n",
       "      <td>2</td>\n",
       "      <td>Female</td>\n",
       "      <td>20</td>\n",
       "      <td>Single</td>\n",
       "      <td>...</td>\n",
       "      <td>less1</td>\n",
       "      <td>1~3</td>\n",
       "      <td>1~3</td>\n",
       "      <td>1~3</td>\n",
       "      <td>1</td>\n",
       "      <td>0</td>\n",
       "      <td>0</td>\n",
       "      <td>1</td>\n",
       "      <td>0</td>\n",
       "      <td>0</td>\n",
       "    </tr>\n",
       "  </tbody>\n",
       "</table>\n",
       "<p>547 rows × 26 columns</p>\n",
       "</div>"
      ],
      "text/plain": [
       "           destination  passanger weather  temperature  time  \\\n",
       "1215   No Urgent Place      Alone   Sunny           55   2PM   \n",
       "1216   No Urgent Place  Friend(s)   Sunny           80  10AM   \n",
       "1217   No Urgent Place  Friend(s)   Sunny           80  10AM   \n",
       "1218   No Urgent Place  Friend(s)   Sunny           80  10AM   \n",
       "1219   No Urgent Place  Friend(s)   Sunny           80   2PM   \n",
       "...                ...        ...     ...          ...   ...   \n",
       "11927             Work      Alone   Rainy           55   7AM   \n",
       "11928             Work      Alone   Snowy           30   7AM   \n",
       "11929             Work      Alone   Snowy           30   7AM   \n",
       "11930             Work      Alone   Snowy           30   7AM   \n",
       "11931             Work      Alone   Sunny           80   7AM   \n",
       "\n",
       "                      coupon expiration  gender  age maritalStatus  ...  \\\n",
       "1215         Restaurant(<20)         24    Male   20        Single  ...   \n",
       "1216            Coffee House          2    Male   20        Single  ...   \n",
       "1217                     Bar         24    Male   20        Single  ...   \n",
       "1218   Carry out & Take away          2    Male   20        Single  ...   \n",
       "1219            Coffee House         24    Male   20        Single  ...   \n",
       "...                      ...        ...     ...  ...           ...  ...   \n",
       "11927  Carry out & Take away         24  Female   20        Single  ...   \n",
       "11928           Coffee House         24  Female   20        Single  ...   \n",
       "11929        Restaurant(<20)         24  Female   20        Single  ...   \n",
       "11930                    Bar         24  Female   20        Single  ...   \n",
       "11931      Restaurant(20-50)          2  Female   20        Single  ...   \n",
       "\n",
       "       CoffeeHouse CarryAway RestaurantLessThan20 Restaurant20To50  \\\n",
       "1215           1~3       1~3                never              1~3   \n",
       "1216           1~3       1~3                never              1~3   \n",
       "1217           1~3       1~3                never              1~3   \n",
       "1218           1~3       1~3                never              1~3   \n",
       "1219           1~3       1~3                never              1~3   \n",
       "...            ...       ...                  ...              ...   \n",
       "11927        less1       1~3                  1~3              1~3   \n",
       "11928        less1       1~3                  1~3              1~3   \n",
       "11929        less1       1~3                  1~3              1~3   \n",
       "11930        less1       1~3                  1~3              1~3   \n",
       "11931        less1       1~3                  1~3              1~3   \n",
       "\n",
       "      toCoupon_GEQ5min toCoupon_GEQ15min toCoupon_GEQ25min direction_same  \\\n",
       "1215                 1                 0                 0              0   \n",
       "1216                 1                 0                 0              0   \n",
       "1217                 1                 0                 0              0   \n",
       "1218                 1                 1                 0              0   \n",
       "1219                 1                 0                 0              0   \n",
       "...                ...               ...               ...            ...   \n",
       "11927                1                 0                 0              0   \n",
       "11928                1                 0                 0              1   \n",
       "11929                1                 1                 0              0   \n",
       "11930                1                 1                 1              0   \n",
       "11931                1                 0                 0              1   \n",
       "\n",
       "      direction_opp  Y  \n",
       "1215              1  1  \n",
       "1216              1  1  \n",
       "1217              1  1  \n",
       "1218              1  1  \n",
       "1219              1  1  \n",
       "...             ... ..  \n",
       "11927             1  1  \n",
       "11928             0  1  \n",
       "11929             1  1  \n",
       "11930             1  1  \n",
       "11931             0  0  \n",
       "\n",
       "[547 rows x 26 columns]"
      ]
     },
     "execution_count": 132,
     "metadata": {},
     "output_type": "execute_result"
    }
   ],
   "source": [
    "#replacing 1d in the expiration column to 24h so that unit is same for all the values. Remove h as unit from the value and change the column type to int\n",
    "#data['expiration'] =data['expiration'].replace('1d', '24h')\n",
    "# drop h from the values of expiration and make the column type to int\n",
    "#data['expiration']= data['expiration'].str.replace('h',\"\")\n",
    "#pd.to_numeric(data['expiration'])\n",
    "#data['age']=data['age'].replace('50plus', 51)\n",
    "#data['age']=data['age'].replace('below21',20)\n",
    "#with20= data.query(\"age==20\")\n",
    "#with20\n",
    "#with51 = data.query(\"age==51\")\n",
    "#with51\n",
    "#pd.to_numeric(data['age'])\n",
    "#data.info()\n",
    "#data['age']= data['age'].astype('int')\n",
    "#data.info()\n",
    "#gt25 = data.query(\"age>25\")\n",
    "#gt25\n",
    "\n"
   ]
  },
  {
   "cell_type": "markdown",
   "metadata": {
    "id": "YE6oJbXd_qRI"
   },
   "source": [
    "4. What proportion of the total observations chose to accept the coupon?"
   ]
  },
  {
   "cell_type": "code",
   "execution_count": 26,
   "metadata": {
    "id": "86GGqBTv_qRI"
   },
   "outputs": [
    {
     "name": "stdout",
     "output_type": "stream",
     "text": [
      "Total Count =  12610\n",
      "Accepted Count =  7157\n",
      "Proportion =  56.75654242664552\n"
     ]
    }
   ],
   "source": [
    "# to find the proportion of the total observations chose to accept the coupon\n",
    "# First find the total count. Second find the count of passangers who accepted where Y==1\n",
    "# and then divide the accepted count to the total count\n",
    "\n",
    "Total_Count= None\n",
    "Accepted_Count= None\n",
    "Proportion= None\n",
    "Total_Count = data.shape[0]\n",
    "print(\"Total Count = \", Total_Count)\n",
    "Accepted_Count = data.query('Y==1').shape[0]\n",
    "print(\"Accepted Count = \", Accepted_Count)\n",
    "print(\"Proportion = \", (Accepted_Count/Total_Count)*100)\n"
   ]
  },
  {
   "cell_type": "markdown",
   "metadata": {
    "id": "vflz0DoE_qRI"
   },
   "source": [
    "5. Use a bar plot to visualize the `coupon` column."
   ]
  },
  {
   "cell_type": "code",
   "execution_count": null,
   "metadata": {},
   "outputs": [],
   "source": [
    "#sns.barplot(data, x='coupon' )\n",
    "#plt.title(\"Bar Plot for coupon\")\n",
    "#plt.xlabel('Column')\n",
    "#plt.ylabel('We will see')\n",
    "#plt.figure(figsize=(8, 5))\n",
    "#plt.show()\n",
    "\n",
    "#CouponArray = data['coupon'].unique()\n",
    "#CouponArray\n",
    "#CouponCount = data."
   ]
  },
  {
   "cell_type": "code",
   "execution_count": 27,
   "metadata": {},
   "outputs": [
    {
     "data": {
      "text/html": [
       "<div>\n",
       "<style scoped>\n",
       "    .dataframe tbody tr th:only-of-type {\n",
       "        vertical-align: middle;\n",
       "    }\n",
       "\n",
       "    .dataframe tbody tr th {\n",
       "        vertical-align: top;\n",
       "    }\n",
       "\n",
       "    .dataframe thead th {\n",
       "        text-align: right;\n",
       "    }\n",
       "</style>\n",
       "<table border=\"1\" class=\"dataframe\">\n",
       "  <thead>\n",
       "    <tr style=\"text-align: right;\">\n",
       "      <th></th>\n",
       "      <th>coupon</th>\n",
       "      <th>count</th>\n",
       "    </tr>\n",
       "  </thead>\n",
       "  <tbody>\n",
       "    <tr>\n",
       "      <th>0</th>\n",
       "      <td>Coffee House</td>\n",
       "      <td>3989</td>\n",
       "    </tr>\n",
       "    <tr>\n",
       "      <th>1</th>\n",
       "      <td>Restaurant(&lt;20)</td>\n",
       "      <td>2779</td>\n",
       "    </tr>\n",
       "    <tr>\n",
       "      <th>2</th>\n",
       "      <td>Carry out &amp; Take away</td>\n",
       "      <td>2344</td>\n",
       "    </tr>\n",
       "    <tr>\n",
       "      <th>3</th>\n",
       "      <td>Bar</td>\n",
       "      <td>2010</td>\n",
       "    </tr>\n",
       "    <tr>\n",
       "      <th>4</th>\n",
       "      <td>Restaurant(20-50)</td>\n",
       "      <td>1488</td>\n",
       "    </tr>\n",
       "  </tbody>\n",
       "</table>\n",
       "</div>"
      ],
      "text/plain": [
       "                  coupon  count\n",
       "0           Coffee House   3989\n",
       "1        Restaurant(<20)   2779\n",
       "2  Carry out & Take away   2344\n",
       "3                    Bar   2010\n",
       "4      Restaurant(20-50)   1488"
      ]
     },
     "execution_count": 27,
     "metadata": {},
     "output_type": "execute_result"
    }
   ],
   "source": [
    "# To visualize the coupon column first I have created a data frame which has the counts of each type of coupon\n",
    "coupon_counts = data['coupon'].value_counts().reset_index()\n",
    "coupon_counts"
   ]
  },
  {
   "cell_type": "code",
   "execution_count": 28,
   "metadata": {
    "id": "dHFh3E45_qRI"
   },
   "outputs": [
    {
     "data": {
      "text/plain": [
       "([0, 1, 2, 3, 4],\n",
       " [Text(0, 0, 'Coffee House'),\n",
       "  Text(1, 0, 'Restaurant(<20)'),\n",
       "  Text(2, 0, 'Carry out & Take away'),\n",
       "  Text(3, 0, 'Bar'),\n",
       "  Text(4, 0, 'Restaurant(20-50)')])"
      ]
     },
     "execution_count": 28,
     "metadata": {},
     "output_type": "execute_result"
    },
    {
     "data": {
      "image/png": "[encoded data removed]",
      "text/plain": [
       "<Figure size 640x480 with 1 Axes>"
      ]
     },
     "metadata": {},
     "output_type": "display_data"
    }
   ],
   "source": [
    "# showing the coupon count in a bar chart using seaborn barplot method\n",
    "sns.barplot(coupon_counts, x= 'coupon', y= 'count', hue='coupon')\n",
    "plt.title('Count of Coupon')\n",
    "plt.xlabel('Coupon')\n",
    "plt.ylabel('Count')\n",
    "plt.xticks(rotation=90)"
   ]
  },
  {
   "cell_type": "code",
   "execution_count": 51,
   "metadata": {},
   "outputs": [
    {
     "data": {
      "text/plain": [
       "([0, 1, 2, 3, 4],\n",
       " [Text(0, 0, 'Restaurant(<20)'),\n",
       "  Text(1, 0, 'Coffee House'),\n",
       "  Text(2, 0, 'Carry out & Take away'),\n",
       "  Text(3, 0, 'Bar'),\n",
       "  Text(4, 0, 'Restaurant(20-50)')])"
      ]
     },
     "execution_count": 51,
     "metadata": {},
     "output_type": "execute_result"
    },
    {
     "data": {
      "image/png": "[encoded data removed]",
      "text/plain": [
       "<Figure size 640x480 with 1 Axes>"
      ]
     },
     "metadata": {},
     "output_type": "display_data"
    }
   ],
   "source": [
    "# Histogram for coupon also done by using histplot method from seaborn\n",
    "sns.histplot(data,x= 'coupon', hue= 'coupon')\n",
    "plt.title('Count of Coupon')\n",
    "plt.xticks(rotation=90)"
   ]
  },
  {
   "cell_type": "markdown",
   "metadata": {
    "id": "Qw4lCyx2_qRI"
   },
   "source": [
    "6. Use a histogram to visualize the temperature column."
   ]
  },
  {
   "cell_type": "code",
   "execution_count": 29,
   "metadata": {
    "id": "Yg9Anv71_qRI"
   },
   "outputs": [
    {
     "data": {
      "text/plain": [
       "Text(0, 0.5, 'Count of drivers')"
      ]
     },
     "execution_count": 29,
     "metadata": {},
     "output_type": "execute_result"
    },
    {
     "data": {
      "image/png": "[encoded data removed]",
      "text/plain": [
       "<Figure size 640x480 with 1 Axes>"
      ]
     },
     "metadata": {},
     "output_type": "display_data"
    }
   ],
   "source": [
    "# Using the histplot method of seaborn to create histogram for temperature\n",
    "sns.histplot(data, x= 'temperature', hue= 'temperature' )\n",
    "plt.title('Histogram for Temperature')\n",
    "plt.xlabel('Temperature')\n",
    "plt.ylabel('Count of drivers')"
   ]
  },
  {
   "cell_type": "markdown",
   "metadata": {
    "id": "FupfgeJk_qRJ"
   },
   "source": [
    "**Investigating the Bar Coupons**\n",
    "\n",
    "Now, we will lead you through an exploration of just the bar related coupons.  \n",
    "\n",
    "1. Create a new `DataFrame` that contains just the bar coupons.\n"
   ]
  },
  {
   "cell_type": "code",
   "execution_count": 30,
   "metadata": {},
   "outputs": [
    {
     "data": {
      "text/html": [
       "<div>\n",
       "<style scoped>\n",
       "    .dataframe tbody tr th:only-of-type {\n",
       "        vertical-align: middle;\n",
       "    }\n",
       "\n",
       "    .dataframe tbody tr th {\n",
       "        vertical-align: top;\n",
       "    }\n",
       "\n",
       "    .dataframe thead th {\n",
       "        text-align: right;\n",
       "    }\n",
       "</style>\n",
       "<table border=\"1\" class=\"dataframe\">\n",
       "  <thead>\n",
       "    <tr style=\"text-align: right;\">\n",
       "      <th></th>\n",
       "      <th>destination</th>\n",
       "      <th>passanger</th>\n",
       "      <th>weather</th>\n",
       "      <th>temperature</th>\n",
       "      <th>time</th>\n",
       "      <th>coupon</th>\n",
       "      <th>expiration</th>\n",
       "      <th>gender</th>\n",
       "      <th>age</th>\n",
       "      <th>maritalStatus</th>\n",
       "      <th>...</th>\n",
       "      <th>CoffeeHouse</th>\n",
       "      <th>CarryAway</th>\n",
       "      <th>RestaurantLessThan20</th>\n",
       "      <th>Restaurant20To50</th>\n",
       "      <th>toCoupon_GEQ5min</th>\n",
       "      <th>toCoupon_GEQ15min</th>\n",
       "      <th>toCoupon_GEQ25min</th>\n",
       "      <th>direction_same</th>\n",
       "      <th>direction_opp</th>\n",
       "      <th>Y</th>\n",
       "    </tr>\n",
       "  </thead>\n",
       "  <tbody>\n",
       "    <tr>\n",
       "      <th>9</th>\n",
       "      <td>No Urgent Place</td>\n",
       "      <td>Kid(s)</td>\n",
       "      <td>Sunny</td>\n",
       "      <td>80</td>\n",
       "      <td>10AM</td>\n",
       "      <td>Bar</td>\n",
       "      <td>1d</td>\n",
       "      <td>Female</td>\n",
       "      <td>21</td>\n",
       "      <td>Unmarried partner</td>\n",
       "      <td>...</td>\n",
       "      <td>never</td>\n",
       "      <td>never</td>\n",
       "      <td>4~8</td>\n",
       "      <td>1~3</td>\n",
       "      <td>1</td>\n",
       "      <td>1</td>\n",
       "      <td>0</td>\n",
       "      <td>0</td>\n",
       "      <td>1</td>\n",
       "      <td>0</td>\n",
       "    </tr>\n",
       "    <tr>\n",
       "      <th>13</th>\n",
       "      <td>Home</td>\n",
       "      <td>Alone</td>\n",
       "      <td>Sunny</td>\n",
       "      <td>55</td>\n",
       "      <td>6PM</td>\n",
       "      <td>Bar</td>\n",
       "      <td>1d</td>\n",
       "      <td>Female</td>\n",
       "      <td>21</td>\n",
       "      <td>Unmarried partner</td>\n",
       "      <td>...</td>\n",
       "      <td>never</td>\n",
       "      <td>never</td>\n",
       "      <td>4~8</td>\n",
       "      <td>1~3</td>\n",
       "      <td>1</td>\n",
       "      <td>0</td>\n",
       "      <td>0</td>\n",
       "      <td>1</td>\n",
       "      <td>0</td>\n",
       "      <td>1</td>\n",
       "    </tr>\n",
       "    <tr>\n",
       "      <th>17</th>\n",
       "      <td>Work</td>\n",
       "      <td>Alone</td>\n",
       "      <td>Sunny</td>\n",
       "      <td>55</td>\n",
       "      <td>7AM</td>\n",
       "      <td>Bar</td>\n",
       "      <td>1d</td>\n",
       "      <td>Female</td>\n",
       "      <td>21</td>\n",
       "      <td>Unmarried partner</td>\n",
       "      <td>...</td>\n",
       "      <td>never</td>\n",
       "      <td>never</td>\n",
       "      <td>4~8</td>\n",
       "      <td>1~3</td>\n",
       "      <td>1</td>\n",
       "      <td>1</td>\n",
       "      <td>1</td>\n",
       "      <td>0</td>\n",
       "      <td>1</td>\n",
       "      <td>0</td>\n",
       "    </tr>\n",
       "    <tr>\n",
       "      <th>24</th>\n",
       "      <td>No Urgent Place</td>\n",
       "      <td>Friend(s)</td>\n",
       "      <td>Sunny</td>\n",
       "      <td>80</td>\n",
       "      <td>10AM</td>\n",
       "      <td>Bar</td>\n",
       "      <td>1d</td>\n",
       "      <td>Male</td>\n",
       "      <td>21</td>\n",
       "      <td>Single</td>\n",
       "      <td>...</td>\n",
       "      <td>less1</td>\n",
       "      <td>4~8</td>\n",
       "      <td>4~8</td>\n",
       "      <td>less1</td>\n",
       "      <td>1</td>\n",
       "      <td>0</td>\n",
       "      <td>0</td>\n",
       "      <td>0</td>\n",
       "      <td>1</td>\n",
       "      <td>1</td>\n",
       "    </tr>\n",
       "    <tr>\n",
       "      <th>35</th>\n",
       "      <td>Home</td>\n",
       "      <td>Alone</td>\n",
       "      <td>Sunny</td>\n",
       "      <td>55</td>\n",
       "      <td>6PM</td>\n",
       "      <td>Bar</td>\n",
       "      <td>1d</td>\n",
       "      <td>Male</td>\n",
       "      <td>21</td>\n",
       "      <td>Single</td>\n",
       "      <td>...</td>\n",
       "      <td>less1</td>\n",
       "      <td>4~8</td>\n",
       "      <td>4~8</td>\n",
       "      <td>less1</td>\n",
       "      <td>1</td>\n",
       "      <td>0</td>\n",
       "      <td>0</td>\n",
       "      <td>1</td>\n",
       "      <td>0</td>\n",
       "      <td>1</td>\n",
       "    </tr>\n",
       "  </tbody>\n",
       "</table>\n",
       "<p>5 rows × 26 columns</p>\n",
       "</div>"
      ],
      "text/plain": [
       "        destination  passanger weather  temperature  time coupon expiration  \\\n",
       "9   No Urgent Place     Kid(s)   Sunny           80  10AM    Bar         1d   \n",
       "13             Home      Alone   Sunny           55   6PM    Bar         1d   \n",
       "17             Work      Alone   Sunny           55   7AM    Bar         1d   \n",
       "24  No Urgent Place  Friend(s)   Sunny           80  10AM    Bar         1d   \n",
       "35             Home      Alone   Sunny           55   6PM    Bar         1d   \n",
       "\n",
       "    gender  age      maritalStatus  ...  CoffeeHouse CarryAway  \\\n",
       "9   Female   21  Unmarried partner  ...        never     never   \n",
       "13  Female   21  Unmarried partner  ...        never     never   \n",
       "17  Female   21  Unmarried partner  ...        never     never   \n",
       "24    Male   21             Single  ...        less1       4~8   \n",
       "35    Male   21             Single  ...        less1       4~8   \n",
       "\n",
       "   RestaurantLessThan20 Restaurant20To50 toCoupon_GEQ5min toCoupon_GEQ15min  \\\n",
       "9                   4~8              1~3                1                 1   \n",
       "13                  4~8              1~3                1                 0   \n",
       "17                  4~8              1~3                1                 1   \n",
       "24                  4~8            less1                1                 0   \n",
       "35                  4~8            less1                1                 0   \n",
       "\n",
       "   toCoupon_GEQ25min direction_same direction_opp  Y  \n",
       "9                  0              0             1  0  \n",
       "13                 0              1             0  1  \n",
       "17                 1              0             1  0  \n",
       "24                 0              0             1  1  \n",
       "35                 0              1             0  1  \n",
       "\n",
       "[5 rows x 26 columns]"
      ]
     },
     "execution_count": 30,
     "metadata": {},
     "output_type": "execute_result"
    }
   ],
   "source": [
    "# From the data, querying out data where coupon == Bar and putting in new data frame named DataBar\n",
    "DataBar= data.query(\"coupon == 'Bar'\")\n",
    "DataBar.head(5)"
   ]
  },
  {
   "cell_type": "code",
   "execution_count": 17,
   "metadata": {
    "id": "tMBlWuGq_qRJ",
    "scrolled": true
   },
   "outputs": [
    {
     "name": "stdout",
     "output_type": "stream",
     "text": [
      "Duplicates:\n",
      "          destination  passanger weather  temperature  time coupon expiration  \\\n",
      "6958  No Urgent Place  Friend(s)   Rainy           55  10PM    Bar         2h   \n",
      "6962  No Urgent Place    Partner   Sunny           30  10AM    Bar         1d   \n",
      "6970             Home      Alone   Sunny           80   6PM    Bar         2h   \n",
      "7394  No Urgent Place     Kid(s)   Rainy           55  10PM    Bar         1d   \n",
      "7395  No Urgent Place     Kid(s)   Snowy           30   6PM    Bar         1d   \n",
      "7401  No Urgent Place  Friend(s)   Rainy           55  10PM    Bar         2h   \n",
      "7409             Home      Alone   Sunny           80   6PM    Bar         2h   \n",
      "7843  No Urgent Place  Friend(s)   Rainy           55  10PM    Bar         2h   \n",
      "7847  No Urgent Place    Partner   Sunny           30  10AM    Bar         1d   \n",
      "7855             Home      Alone   Sunny           80   6PM    Bar         2h   \n",
      "8496  No Urgent Place     Kid(s)   Rainy           55  10PM    Bar         1d   \n",
      "8497  No Urgent Place     Kid(s)   Snowy           30   6PM    Bar         1d   \n",
      "8503  No Urgent Place  Friend(s)   Rainy           55  10PM    Bar         2h   \n",
      "8511             Home      Alone   Sunny           80   6PM    Bar         2h   \n",
      "\n",
      "      gender age    maritalStatus  ...  CoffeeHouse CarryAway  \\\n",
      "6958  Female  31  Married partner  ...        less1       gt8   \n",
      "6962  Female  31  Married partner  ...        less1       gt8   \n",
      "6970  Female  31  Married partner  ...        less1       gt8   \n",
      "7394    Male  46  Married partner  ...          1~3       1~3   \n",
      "7395    Male  46  Married partner  ...          1~3       1~3   \n",
      "7401    Male  46  Married partner  ...          1~3       1~3   \n",
      "7409    Male  46  Married partner  ...          1~3       1~3   \n",
      "7843  Female  31  Married partner  ...        less1       gt8   \n",
      "7847  Female  31  Married partner  ...        less1       gt8   \n",
      "7855  Female  31  Married partner  ...        less1       gt8   \n",
      "8496    Male  46  Married partner  ...          1~3       1~3   \n",
      "8497    Male  46  Married partner  ...          1~3       1~3   \n",
      "8503    Male  46  Married partner  ...          1~3       1~3   \n",
      "8511    Male  46  Married partner  ...          1~3       1~3   \n",
      "\n",
      "     RestaurantLessThan20 Restaurant20To50 toCoupon_GEQ5min toCoupon_GEQ15min  \\\n",
      "6958                  4~8            less1                1                 1   \n",
      "6962                  4~8            less1                1                 1   \n",
      "6970                  4~8            less1                1                 0   \n",
      "7394                less1              1~3                1                 1   \n",
      "7395                less1              1~3                1                 1   \n",
      "7401                less1              1~3                1                 1   \n",
      "7409                less1              1~3                1                 0   \n",
      "7843                  4~8            less1                1                 1   \n",
      "7847                  4~8            less1                1                 1   \n",
      "7855                  4~8            less1                1                 0   \n",
      "8496                less1              1~3                1                 1   \n",
      "8497                less1              1~3                1                 1   \n",
      "8503                less1              1~3                1                 1   \n",
      "8511                less1              1~3                1                 0   \n",
      "\n",
      "     toCoupon_GEQ25min direction_same direction_opp  Y  \n",
      "6958                 0              0             1  0  \n",
      "6962                 0              0             1  1  \n",
      "6970                 0              1             0  0  \n",
      "7394                 0              0             1  0  \n",
      "7395                 0              0             1  0  \n",
      "7401                 0              0             1  1  \n",
      "7409                 0              1             0  1  \n",
      "7843                 0              0             1  0  \n",
      "7847                 0              0             1  1  \n",
      "7855                 0              1             0  0  \n",
      "8496                 0              0             1  0  \n",
      "8497                 0              0             1  0  \n",
      "8503                 0              0             1  1  \n",
      "8511                 0              1             0  1  \n",
      "\n",
      "[14 rows x 26 columns]\n"
     ]
    }
   ],
   "source": [
    "#DataBarDuplicate = DataBar.duplicated(keep=False)\n",
    "#DataBarDuplicate\n",
    "\n",
    "#duplicates = DataBar.duplicated(keep=False)\n",
    "#print(\"Duplicates:\")\n",
    "#print(DataBar[duplicates])\n",
    "#so there are 14 duplicates in our record for DataBar which needs to be removed for further analysis"
   ]
  },
  {
   "cell_type": "markdown",
   "metadata": {
    "id": "8ue6uCqf_qRJ"
   },
   "source": [
    "2. What proportion of bar coupons were accepted?"
   ]
  },
  {
   "cell_type": "code",
   "execution_count": null,
   "metadata": {},
   "outputs": [],
   "source": [
    "# To find this proportions following steps have been taken\n",
    "\n",
    "# 1. Find the total Bar Coupon Count\n",
    "# 2. Find the count of Bar Coupons that were accepted\n",
    "# 3. Find the proportion by dividing 1 with 2"
   ]
  },
  {
   "cell_type": "code",
   "execution_count": 31,
   "metadata": {},
   "outputs": [
    {
     "data": {
      "text/plain": [
       "2010"
      ]
     },
     "execution_count": 31,
     "metadata": {},
     "output_type": "execute_result"
    }
   ],
   "source": [
    "BarCouponCount = data.query(\"coupon =='Bar'\").shape[0]\n",
    "BarCouponCount\n",
    "#BarCouponCount = 2010"
   ]
  },
  {
   "cell_type": "code",
   "execution_count": 32,
   "metadata": {},
   "outputs": [
    {
     "data": {
      "text/plain": [
       "824"
      ]
     },
     "execution_count": 32,
     "metadata": {},
     "output_type": "execute_result"
    }
   ],
   "source": [
    "BarCouponAccepted = data.query(\"coupon =='Bar' and Y==1\").shape[0]\n",
    "BarCouponAccepted\n",
    "#BarCouponAccepted = 824"
   ]
  },
  {
   "cell_type": "code",
   "execution_count": 33,
   "metadata": {
    "id": "hSdte8Mi_qRK"
   },
   "outputs": [
    {
     "data": {
      "text/plain": [
       "40.99502487562189"
      ]
     },
     "execution_count": 33,
     "metadata": {},
     "output_type": "execute_result"
    }
   ],
   "source": [
    "\n",
    "ProportionBarAccepted = (BarCouponAccepted/BarCouponCount)*100\n",
    "ProportionBarAccepted\n",
    "# ProportionBarAccepted = \n",
    "# Meaning almost 40% of bar coupons are accepted\n"
   ]
  },
  {
   "cell_type": "markdown",
   "metadata": {
    "id": "85nA_iEi_qRK"
   },
   "source": [
    "3. Compare the acceptance rate between those who went to a bar 3 or fewer times a month to those who went more.\n"
   ]
  },
  {
   "cell_type": "code",
   "execution_count": 78,
   "metadata": {},
   "outputs": [],
   "source": [
    "data_13_bar = DataBar[DataBar.Bar == '1~3']"
   ]
  },
  {
   "cell_type": "code",
   "execution_count": 79,
   "metadata": {},
   "outputs": [],
   "source": [
    "data_13_bar_accepted = data_13_bar[data_13_bar.Y == 1]"
   ]
  },
  {
   "cell_type": "code",
   "execution_count": 81,
   "metadata": {},
   "outputs": [
    {
     "data": {
      "text/plain": [
       "64.73551637279597"
      ]
     },
     "execution_count": 81,
     "metadata": {},
     "output_type": "execute_result"
    }
   ],
   "source": [
    "data_13_bar_accepted.shape[0] / data_13_bar.shape[0] * 100"
   ]
  },
  {
   "cell_type": "code",
   "execution_count": 85,
   "metadata": {},
   "outputs": [
    {
     "data": {
      "text/plain": [
       "np.float64(37.051352843732744)"
      ]
     },
     "execution_count": 85,
     "metadata": {},
     "output_type": "execute_result"
    }
   ],
   "source": [
    "DataBar[DataBar.Bar.isin(['never', 'less1', '1~3'])].Y.mean() * 100"
   ]
  },
  {
   "cell_type": "code",
   "execution_count": 86,
   "metadata": {},
   "outputs": [
    {
     "data": {
      "text/plain": [
       "np.float64(76.88442211055276)"
      ]
     },
     "execution_count": 86,
     "metadata": {},
     "output_type": "execute_result"
    }
   ],
   "source": [
    "DataBar[~DataBar.Bar.isin(['never', 'less1', '1~3'])].Y.mean() * 100"
   ]
  },
  {
   "cell_type": "code",
   "execution_count": 84,
   "metadata": {},
   "outputs": [
    {
     "data": {
      "text/plain": [
       "Bar\n",
       "never    851\n",
       "less1    563\n",
       "1~3      397\n",
       "4~8      150\n",
       "gt8       49\n",
       "Name: count, dtype: int64"
      ]
     },
     "execution_count": 84,
     "metadata": {},
     "output_type": "execute_result"
    }
   ],
   "source": [
    "DataBar.Bar.value_counts()"
   ]
  },
  {
   "cell_type": "code",
   "execution_count": null,
   "metadata": {},
   "outputs": [],
   "source": [
    "DataBar[DataBar.Bar ~= '1~3'].Y.mean() * 100"
   ]
  },
  {
   "cell_type": "code",
   "execution_count": 34,
   "metadata": {},
   "outputs": [
    {
     "data": {
      "text/plain": [
       "257"
      ]
     },
     "execution_count": 34,
     "metadata": {},
     "output_type": "execute_result"
    }
   ],
   "source": [
    "# Find count of passangers who visited bar less 3 or fewer times i.e. between 1 to 3 times\n",
    "AcceptedLessThan3Visit = DataBar.query(\"Bar == '1~3' and Y ==1\").shape[0]\n",
    "AcceptedLessThan3Visit\n",
    "#AcceptedLessThan3Visit = 257\n"
   ]
  },
  {
   "cell_type": "code",
   "execution_count": 37,
   "metadata": {},
   "outputs": [
    {
     "data": {
      "text/plain": [
       "397"
      ]
     },
     "execution_count": 37,
     "metadata": {},
     "output_type": "execute_result"
    }
   ],
   "source": [
    "# Count of drivers who visits bar less than 3 times\n",
    "Visited_1_3_Bar = DataBar.query(\"Bar=='1~3'\").shape[0]\n",
    "Visited_1_3_Bar"
   ]
  },
  {
   "cell_type": "code",
   "execution_count": 38,
   "metadata": {},
   "outputs": [
    {
     "name": "stdout",
     "output_type": "stream",
     "text": [
      "Acceptance Rate Less Than 3 Visit 64.73551637279597\n"
     ]
    }
   ],
   "source": [
    "# Calculate the Acceptance Rate for LessThan 3 Visits by dividing with the Visited_1_3_Bar\n",
    "AcceptanceRateLessThan3Visit =(AcceptedLessThan3Visit/Visited_1_3_Bar)*100\n",
    "print(\"Acceptance Rate Less Than 3 Visit\", AcceptanceRateLessThan3Visit)"
   ]
  },
  {
   "cell_type": "code",
   "execution_count": 39,
   "metadata": {
    "id": "LBOrN-XM_qRK"
   },
   "outputs": [
    {
     "data": {
      "text/plain": [
       "153"
      ]
     },
     "execution_count": 39,
     "metadata": {},
     "output_type": "execute_result"
    }
   ],
   "source": [
    "# Find count of passangers who visited bar more than 3 times and accepted the coupon\n",
    "\n",
    "AcceptedMoreThan3Visit = len(DataBar.query(\"(Bar== '4~8' or Bar == 'gt8') and (Y==1)\"))\n",
    "AcceptedMoreThan3Visit\n",
    "#AcceptedMoreThan3Visit = 153\n"
   ]
  },
  {
   "cell_type": "code",
   "execution_count": 40,
   "metadata": {},
   "outputs": [
    {
     "data": {
      "text/plain": [
       "199"
      ]
     },
     "execution_count": 40,
     "metadata": {},
     "output_type": "execute_result"
    }
   ],
   "source": [
    "# # Find count of passangers who visited bar more than 3 times \n",
    "\n",
    "Visited_GT3_Bar = DataBar.query(\"Bar== '4~8' or Bar == 'gt8'\").shape[0]\n",
    "Visited_GT3_Bar"
   ]
  },
  {
   "cell_type": "code",
   "execution_count": 41,
   "metadata": {},
   "outputs": [
    {
     "name": "stdout",
     "output_type": "stream",
     "text": [
      "Acceptance Rate more Than 3 Visit 76.88442211055276\n"
     ]
    }
   ],
   "source": [
    "# Calculate the Acceptance Rate for more Than 3 Visits by dividing by the Visited_GT3_Bar\n",
    "\n",
    "AcceptanceRateMoreThan3Visit = (AcceptedMoreThan3Visit/Visited_GT3_Bar)*100\n",
    "print(\"Acceptance Rate more Than 3 Visit\", AcceptanceRateMoreThan3Visit)\n"
   ]
  },
  {
   "cell_type": "code",
   "execution_count": 42,
   "metadata": {},
   "outputs": [
    {
     "name": "stdout",
     "output_type": "stream",
     "text": [
      "Acceptance Rate Less Than 3 Visit 64.73551637279597\n",
      "Acceptance Rate more than 3 visit 76.88442211055276\n"
     ]
    }
   ],
   "source": [
    "print(\"Acceptance Rate Less Than 3 Visit\", AcceptanceRateLessThan3Visit)\n",
    "print(\"Acceptance Rate more than 3 visit\" ,AcceptanceRateMoreThan3Visit)\n"
   ]
  },
  {
   "cell_type": "markdown",
   "metadata": {
    "id": "RBgcQwH4_qRK"
   },
   "source": [
    "4. Compare the acceptance rate between drivers who go to a bar more than once a month and are over the age of 25 to the all others.  Is there a difference?\n"
   ]
  },
  {
   "cell_type": "code",
   "execution_count": 47,
   "metadata": {},
   "outputs": [
    {
     "data": {
      "text/plain": [
       "292"
      ]
     },
     "execution_count": 47,
     "metadata": {},
     "output_type": "execute_result"
    }
   ],
   "source": [
    "# Find the count of drivers who go to a bar more than once a month and are over the age of 25 and accepted coupon\n",
    "DriverAgeGT25_BarGT1= DataBar.query(\"age>25 and (Bar=='1~3' or Bar =='4~8'  or Bar == 'gt8') and Y==1 \").shape[0]\n",
    "DriverAgeGT25_BarGT1 "
   ]
  },
  {
   "cell_type": "code",
   "execution_count": 48,
   "metadata": {},
   "outputs": [
    {
     "data": {
      "text/plain": [
       "420"
      ]
     },
     "execution_count": 48,
     "metadata": {},
     "output_type": "execute_result"
    }
   ],
   "source": [
    "# Find the count of drivers who go to a bar more than once a month and are over the age of 25\n",
    "DriverAgeGT25= DataBar.query(\"age>25 and (Bar=='1~3' or Bar =='4~8'  or Bar == 'gt8')  \").shape[0]\n",
    "DriverAgeGT25"
   ]
  },
  {
   "cell_type": "code",
   "execution_count": 49,
   "metadata": {},
   "outputs": [
    {
     "data": {
      "text/plain": [
       "69.52380952380952"
      ]
     },
     "execution_count": 49,
     "metadata": {},
     "output_type": "execute_result"
    }
   ],
   "source": [
    "#Calculate the acceptance rate by dividing with the BarCouponCount\n",
    "Acpt1_qstn4 = (DriverAgeGT25_BarGT1/DriverAgeGT25)*100\n",
    "Acpt1_qstn4\n"
   ]
  },
  {
   "cell_type": "code",
   "execution_count": 54,
   "metadata": {},
   "outputs": [
    {
     "data": {
      "text/plain": [
       "129"
      ]
     },
     "execution_count": 54,
     "metadata": {},
     "output_type": "execute_result"
    }
   ],
   "source": [
    "# Find the count of drivers other drivers who accepted coupon\n",
    "OthersAccepted = DataBar.query(\"age<=25 and (Bar=='never' or Bar =='less1' ) and Y==1\").shape[0]\n",
    "OthersAccepted"
   ]
  },
  {
   "cell_type": "code",
   "execution_count": 56,
   "metadata": {},
   "outputs": [
    {
     "data": {
      "text/plain": [
       "328"
      ]
     },
     "execution_count": 56,
     "metadata": {},
     "output_type": "execute_result"
    }
   ],
   "source": [
    "# Find the count of drivers other drivers\n",
    "\n",
    "OthersOffered =DataBar.query(\"age<=25 and (Bar=='never' or Bar =='less1' ) \").shape[0]\n",
    "OthersOffered                         "
   ]
  },
  {
   "cell_type": "code",
   "execution_count": 57,
   "metadata": {},
   "outputs": [
    {
     "data": {
      "text/plain": [
       "39.329268292682926"
      ]
     },
     "execution_count": 57,
     "metadata": {},
     "output_type": "execute_result"
    }
   ],
   "source": [
    "# Acceptance Rate of ther drivers is calculated by dividing the count of other drivers with the BarCouponCount\n",
    "Acpt2_qstn4 = (OthersAccepted/OthersOffered)*100\n",
    "Acpt2_qstn4 "
   ]
  },
  {
   "cell_type": "code",
   "execution_count": 59,
   "metadata": {},
   "outputs": [
    {
     "name": "stdout",
     "output_type": "stream",
     "text": [
      "Drivers who go to a bar more than once a month and are over the age of 25 69.52380952380952\n",
      "Other drivers 39.329268292682926\n"
     ]
    }
   ],
   "source": [
    "print(\"Drivers who go to a bar more than once a month and are over the age of 25\", Acpt1_qstn4)\n",
    "print(\"Other drivers\" ,Acpt2_qstn4)\n"
   ]
  },
  {
   "cell_type": "code",
   "execution_count": 1,
   "metadata": {
    "id": "bf28bbeX_qRK"
   },
   "outputs": [],
   "source": [
    "\n",
    "#DriverAgeGT25_BarGT1= DataBar.query(\"age>25 and (Bar=='1~3' or Bar =='4~8'  or Bar == 'gt8') and Y==1 \").shape[0]\n",
    "#DriverAgeGT25_BarGT1 \n",
    "\n",
    "\n",
    "#Others = DataBar.query(\"not (age>25 and (Bar=='1~3' or Bar =='4~8'  or Bar == 'gt8') and Y==1)\").shape[0]\n",
    "#Others\n",
    "\n",
    "#Acpt1_qstn4 = (DriverAgeGT25_BarGT1/BarCouponCount)*100\n",
    "#Acpt1_qstn4 = 14.476945959345564\n",
    "\n",
    "#Acpt2_qstn4 = (Others/BarCouponCount)*100\n",
    "#Acpt2_qstn4 = 85.52305404065443\n",
    "\n",
    "#Meaning those who go to Bar more than once and month and age>25 were less likely to accept bar coupons\n",
    "\n",
    "#AcceptanceRateRatio = (DriverAgeGT25_BarGT1/Others)*100\n",
    "#AcceptanceRateRatio\n",
    "#Note: The Age column has string values- as a part of data cleanup job we got to convert the age column values to int first\n",
    "#Note: It would be better if the values in the columns which has ranges can be converted to their mean values\n"
   ]
  },
  {
   "cell_type": "markdown",
   "metadata": {
    "id": "S4RKT4PJ_qRK"
   },
   "source": [
    "5. Use the same process to compare the acceptance rate between drivers who go to bars more than once a month and had passengers that were not a kid and had occupations other than farming, fishing, or forestry.\n"
   ]
  },
  {
   "cell_type": "code",
   "execution_count": null,
   "metadata": {},
   "outputs": [],
   "source": [
    "#sub_pop_df = data[data.BAR.isin([...]) & ~data.passanger.isin(['kid']) & ~data.occupation.isin([....])]\n",
    "#sub_pop_df.Y.mean() * 100"
   ]
  },
  {
   "cell_type": "code",
   "execution_count": null,
   "metadata": {},
   "outputs": [],
   "source": [
    "#sub_pop_df[sub_pop_df.Y == 1].shape[0] / sub_pop_df.shape[0] * 100"
   ]
  },
  {
   "cell_type": "code",
   "execution_count": 63,
   "metadata": {},
   "outputs": [
    {
     "data": {
      "text/plain": [
       "410"
      ]
     },
     "execution_count": 63,
     "metadata": {},
     "output_type": "execute_result"
    }
   ],
   "source": [
    "# Find the count of drivers who meet all the 3 conditions and accepted\n",
    "bar_count_fr_qstn_5= ['1~3', '4~8', 'gt8']\n",
    "dr_qstn_5_Acptd = DataBar.query(\"Bar in @bar_count_fr_qstn_5 and passanger != 'kid(s)'and occupation !='Farming Fishing & Forestry' and Y==1\").shape[0]\n",
    "dr_qstn_5_Acptd"
   ]
  },
  {
   "cell_type": "code",
   "execution_count": 64,
   "metadata": {},
   "outputs": [
    {
     "data": {
      "text/plain": [
       "596"
      ]
     },
     "execution_count": 64,
     "metadata": {},
     "output_type": "execute_result"
    }
   ],
   "source": [
    "# Find the count of drivers who meet all the 3 conditions\n",
    "driverset_fr_qstn_5 = DataBar.query(\"Bar in @bar_count_fr_qstn_5 and passanger != 'kid(s)' and occupation !='Farming Fishing & Forestry'\").shape[0]\n",
    "driverset_fr_qstn_5"
   ]
  },
  {
   "cell_type": "code",
   "execution_count": 66,
   "metadata": {},
   "outputs": [
    {
     "data": {
      "text/plain": [
       "68.79194630872483"
      ]
     },
     "execution_count": 66,
     "metadata": {},
     "output_type": "execute_result"
    }
   ],
   "source": [
    "# Caclulate the acceptance rate by dividing  driverset_fr_qstn_5_Accepted by driverset_fr_qstn_5\n",
    "Acpt1_qstn5 = (dr_qstn_5_Acptd/driverset_fr_qstn_5)*100\n",
    "Acpt1_qstn5 "
   ]
  },
  {
   "cell_type": "code",
   "execution_count": 75,
   "metadata": {},
   "outputs": [
    {
     "data": {
      "text/plain": [
       "1414"
      ]
     },
     "execution_count": 75,
     "metadata": {},
     "output_type": "execute_result"
    }
   ],
   "source": [
    "# Find the count of drivers who doesn't meet any of the 3 conditions\n",
    "\n",
    "OtherQstn5  = DataBar.query(\" not(Bar in @bar_count_fr_qstn_5 and passanger != 'kid(s)' and occupation !='Farming Fishing & Forestry')\")\n",
    "OtherQstn5Count =OtherQstn5.shape[0]\n",
    "OtherQstn5Count"
   ]
  },
  {
   "cell_type": "code",
   "execution_count": 76,
   "metadata": {},
   "outputs": [
    {
     "data": {
      "text/plain": [
       "414"
      ]
     },
     "execution_count": 76,
     "metadata": {},
     "output_type": "execute_result"
    }
   ],
   "source": [
    "# Find the count of drivers who doesn't meet any of the 3 conditions and accepted\n",
    "\n",
    "OtherQstn5Accepted = OtherQstn5[OtherQstn5.Y==1].shape[0]\n",
    "OtherQstn5Accepted\n"
   ]
  },
  {
   "cell_type": "code",
   "execution_count": 77,
   "metadata": {},
   "outputs": [
    {
     "data": {
      "text/plain": [
       "29.27864214992928"
      ]
     },
     "execution_count": 77,
     "metadata": {},
     "output_type": "execute_result"
    }
   ],
   "source": [
    "# Calculate the acceptance rate by dividing OtherQstn5Accepted with OtherQstn5\n",
    "Accpt2_qstn5 = (OtherQstn5Accepted/OtherQstn5Count)*100\n",
    "Accpt2_qstn5"
   ]
  },
  {
   "cell_type": "code",
   "execution_count": 78,
   "metadata": {},
   "outputs": [
    {
     "name": "stdout",
     "output_type": "stream",
     "text": [
      "Acceptance rate of Drivers who meet the condition 68.79194630872483\n",
      "Acceptance rato of Drivers who doesn't meet the condition 29.27864214992928\n"
     ]
    }
   ],
   "source": [
    "print(\"Acceptance rate of Drivers who meet the condition\", Acpt1_qstn5)\n",
    "print(\"Acceptance rato of Drivers who doesn't meet the condition\" ,Accpt2_qstn5)\n"
   ]
  },
  {
   "cell_type": "markdown",
   "metadata": {
    "id": "n2LIUTil_qRK"
   },
   "source": [
    "6. Compare the acceptance rates between those drivers who:\n",
    "\n",
    "- go to bars more than once a month, had passengers that were not a kid, and were not widowed *OR*\n",
    "- go to bars more than once a month and are under the age of 30 *OR*\n",
    "- go to cheap restaurants more than 4 times a month and income is less than 50K.\n",
    "\n"
   ]
  },
  {
   "cell_type": "code",
   "execution_count": 149,
   "metadata": {},
   "outputs": [],
   "source": [
    "# Setting same variables for ease of qurying\n",
    "income_lt50 = ['$37500 - $49999','$12500 - $24999','$25000 - $37499','Less than $12500']\n",
    "bar_count_fr_qstn_5 = ['1~3', '4~8', 'gt8']"
   ]
  },
  {
   "cell_type": "code",
   "execution_count": 150,
   "metadata": {},
   "outputs": [],
   "source": [
    "# Setting up the condition\n",
    "\n",
    "data_cond1 = DataBar.Bar.isin(bar_count_fr_qstn_5) & (DataBar.passanger != 'Kids(s)' ) & (DataBar.maritalStatus != 'widowed')\n",
    "data_cond2 = DataBar.Bar.isin(bar_count_fr_qstn_5) & (DataBar.age<30)\n",
    "data_cond3 = DataBar.RestaurantLessThan20.isin(['4~8','gt8']) & (DataBar.income.isin(income_lt50))\n",
    "\n",
    "combined_condition = data_cond1 | data_cond2 | data_cond3"
   ]
  },
  {
   "cell_type": "code",
   "execution_count": 163,
   "metadata": {},
   "outputs": [
    {
     "data": {
      "text/plain": [
       "810"
      ]
     },
     "execution_count": 163,
     "metadata": {},
     "output_type": "execute_result"
    }
   ],
   "source": [
    "# Find the count of drivers who meet the 3 conditions and were offered\n",
    "\n",
    "data_qstn_6= DataBar[combined_condition]\n",
    "data_qstn_6\n",
    "data_qstn_6_count =data_qstn_6.shape[0]\n",
    "data_qstn_6_count"
   ]
  },
  {
   "cell_type": "code",
   "execution_count": 164,
   "metadata": {},
   "outputs": [
    {
     "data": {
      "text/plain": [
       "466"
      ]
     },
     "execution_count": 164,
     "metadata": {},
     "output_type": "execute_result"
    }
   ],
   "source": [
    "# Find the count of drivers who meet 3 conditions and accepted\n",
    "\n",
    "data_qstn_6_Y_count = data_qstn_6[data_qstn_6.Y==1].shape[0]\n",
    "data_qstn_6_Y_count"
   ]
  },
  {
   "cell_type": "code",
   "execution_count": 165,
   "metadata": {},
   "outputs": [
    {
     "data": {
      "text/plain": [
       "57.53086419753086"
      ]
     },
     "execution_count": 165,
     "metadata": {},
     "output_type": "execute_result"
    }
   ],
   "source": [
    "# Find the acceptance rate \n",
    "Accpt_Rt_Qstn_6 = (data_qstn_6_Y_count/data_qstn_6_count)*100\n",
    "Accpt_Rt_Qstn_6"
   ]
  },
  {
   "cell_type": "code",
   "execution_count": 167,
   "metadata": {},
   "outputs": [
    {
     "data": {
      "text/plain": [
       "1200"
      ]
     },
     "execution_count": 167,
     "metadata": {},
     "output_type": "execute_result"
    }
   ],
   "source": [
    "# Find the count of drivers who doesn't meet the above condition\n",
    "data_qstn_6_Not_Cond = DataBar[~combined_condition]\n",
    "data_qstn_6_Not_Cond\n",
    "data_qstn_6_Not_Cond_count = data_qstn_6_Not_Cond.shape[0]\n",
    "data_qstn_6_Not_Cond_count"
   ]
  },
  {
   "cell_type": "code",
   "execution_count": 170,
   "metadata": {},
   "outputs": [
    {
     "data": {
      "text/plain": [
       "358"
      ]
     },
     "execution_count": 170,
     "metadata": {},
     "output_type": "execute_result"
    }
   ],
   "source": [
    "# Find the count of drivers who doesn't meet the above condition and Accepted\n",
    "data_qstn_6_Not_Cond = DataBar[~combined_condition] \n",
    "data_qstn_6_Not_Cond_Ac = data_qstn_6_Not_Cond[data_qstn_6_Not_Cond.Y==1]\n",
    "data_qstn_6_Not_Cond_Ac_count = data_qstn_6_Not_Cond_Ac.shape[0]\n",
    "data_qstn_6_Not_Cond_Ac_count\n"
   ]
  },
  {
   "cell_type": "code",
   "execution_count": 171,
   "metadata": {},
   "outputs": [
    {
     "data": {
      "text/plain": [
       "29.833333333333336"
      ]
     },
     "execution_count": 171,
     "metadata": {},
     "output_type": "execute_result"
    }
   ],
   "source": [
    "# Find the Acceptance Rate of drivers who doesn't meet the above condition\n",
    "Acpt_Rt_Qstn_6_No_Cond = (data_qstn_6_Not_Cond_Ac_count/data_qstn_6_Not_Cond_count)*100\n",
    "Acpt_Rt_Qstn_6_No_Cond"
   ]
  },
  {
   "cell_type": "code",
   "execution_count": 172,
   "metadata": {},
   "outputs": [
    {
     "name": "stdout",
     "output_type": "stream",
     "text": [
      "Acceptance rate of drivers who meet the 3 conditions 57.53086419753086\n",
      "Acceptance rate of drivers who doesn't meet the 3 conditions 29.833333333333336\n"
     ]
    }
   ],
   "source": [
    "# Compare the acceptance rate of drivers who meet the given 3 conditions vs the acceptance rate of drivers who doesn't meet the above 3 conditions\n",
    "print(\"Acceptance rate of drivers who meet the 3 conditions\", Accpt_Rt_Qstn_6)\n",
    "print(\"Acceptance rate of drivers who doesn't meet the 3 conditions\", Acpt_Rt_Qstn_6_No_Cond)"
   ]
  },
  {
   "cell_type": "code",
   "execution_count": null,
   "metadata": {},
   "outputs": [],
   "source": [
    "# Clearly the acceptance rate of such drivers who meet the conditions is much higher than those don't meet these conditions"
   ]
  },
  {
   "cell_type": "code",
   "execution_count": 148,
   "metadata": {},
   "outputs": [
    {
     "data": {
      "text/html": [
       "<div>\n",
       "<style scoped>\n",
       "    .dataframe tbody tr th:only-of-type {\n",
       "        vertical-align: middle;\n",
       "    }\n",
       "\n",
       "    .dataframe tbody tr th {\n",
       "        vertical-align: top;\n",
       "    }\n",
       "\n",
       "    .dataframe thead th {\n",
       "        text-align: right;\n",
       "    }\n",
       "</style>\n",
       "<table border=\"1\" class=\"dataframe\">\n",
       "  <thead>\n",
       "    <tr style=\"text-align: right;\">\n",
       "      <th></th>\n",
       "      <th>destination</th>\n",
       "      <th>passanger</th>\n",
       "      <th>weather</th>\n",
       "      <th>temperature</th>\n",
       "      <th>time</th>\n",
       "      <th>coupon</th>\n",
       "      <th>expiration</th>\n",
       "      <th>gender</th>\n",
       "      <th>age</th>\n",
       "      <th>maritalStatus</th>\n",
       "      <th>...</th>\n",
       "      <th>CoffeeHouse</th>\n",
       "      <th>CarryAway</th>\n",
       "      <th>RestaurantLessThan20</th>\n",
       "      <th>Restaurant20To50</th>\n",
       "      <th>toCoupon_GEQ5min</th>\n",
       "      <th>toCoupon_GEQ15min</th>\n",
       "      <th>toCoupon_GEQ25min</th>\n",
       "      <th>direction_same</th>\n",
       "      <th>direction_opp</th>\n",
       "      <th>Y</th>\n",
       "    </tr>\n",
       "  </thead>\n",
       "  <tbody>\n",
       "    <tr>\n",
       "      <th>13</th>\n",
       "      <td>Home</td>\n",
       "      <td>Alone</td>\n",
       "      <td>Sunny</td>\n",
       "      <td>55</td>\n",
       "      <td>6PM</td>\n",
       "      <td>Bar</td>\n",
       "      <td>1d</td>\n",
       "      <td>Female</td>\n",
       "      <td>21</td>\n",
       "      <td>Unmarried partner</td>\n",
       "      <td>...</td>\n",
       "      <td>never</td>\n",
       "      <td>never</td>\n",
       "      <td>4~8</td>\n",
       "      <td>1~3</td>\n",
       "      <td>1</td>\n",
       "      <td>0</td>\n",
       "      <td>0</td>\n",
       "      <td>1</td>\n",
       "      <td>0</td>\n",
       "      <td>1</td>\n",
       "    </tr>\n",
       "    <tr>\n",
       "      <th>90</th>\n",
       "      <td>No Urgent Place</td>\n",
       "      <td>Friend(s)</td>\n",
       "      <td>Sunny</td>\n",
       "      <td>80</td>\n",
       "      <td>10AM</td>\n",
       "      <td>Bar</td>\n",
       "      <td>1d</td>\n",
       "      <td>Male</td>\n",
       "      <td>21</td>\n",
       "      <td>Single</td>\n",
       "      <td>...</td>\n",
       "      <td>less1</td>\n",
       "      <td>1~3</td>\n",
       "      <td>less1</td>\n",
       "      <td>1~3</td>\n",
       "      <td>1</td>\n",
       "      <td>0</td>\n",
       "      <td>0</td>\n",
       "      <td>0</td>\n",
       "      <td>1</td>\n",
       "      <td>1</td>\n",
       "    </tr>\n",
       "    <tr>\n",
       "      <th>101</th>\n",
       "      <td>Home</td>\n",
       "      <td>Alone</td>\n",
       "      <td>Sunny</td>\n",
       "      <td>55</td>\n",
       "      <td>6PM</td>\n",
       "      <td>Bar</td>\n",
       "      <td>1d</td>\n",
       "      <td>Male</td>\n",
       "      <td>21</td>\n",
       "      <td>Single</td>\n",
       "      <td>...</td>\n",
       "      <td>less1</td>\n",
       "      <td>1~3</td>\n",
       "      <td>less1</td>\n",
       "      <td>1~3</td>\n",
       "      <td>1</td>\n",
       "      <td>0</td>\n",
       "      <td>0</td>\n",
       "      <td>1</td>\n",
       "      <td>0</td>\n",
       "      <td>1</td>\n",
       "    </tr>\n",
       "    <tr>\n",
       "      <th>112</th>\n",
       "      <td>No Urgent Place</td>\n",
       "      <td>Friend(s)</td>\n",
       "      <td>Sunny</td>\n",
       "      <td>80</td>\n",
       "      <td>10AM</td>\n",
       "      <td>Bar</td>\n",
       "      <td>1d</td>\n",
       "      <td>Male</td>\n",
       "      <td>26</td>\n",
       "      <td>Unmarried partner</td>\n",
       "      <td>...</td>\n",
       "      <td>gt8</td>\n",
       "      <td>4~8</td>\n",
       "      <td>1~3</td>\n",
       "      <td>less1</td>\n",
       "      <td>1</td>\n",
       "      <td>0</td>\n",
       "      <td>0</td>\n",
       "      <td>0</td>\n",
       "      <td>1</td>\n",
       "      <td>1</td>\n",
       "    </tr>\n",
       "    <tr>\n",
       "      <th>123</th>\n",
       "      <td>Home</td>\n",
       "      <td>Alone</td>\n",
       "      <td>Sunny</td>\n",
       "      <td>55</td>\n",
       "      <td>6PM</td>\n",
       "      <td>Bar</td>\n",
       "      <td>1d</td>\n",
       "      <td>Male</td>\n",
       "      <td>26</td>\n",
       "      <td>Unmarried partner</td>\n",
       "      <td>...</td>\n",
       "      <td>gt8</td>\n",
       "      <td>4~8</td>\n",
       "      <td>1~3</td>\n",
       "      <td>less1</td>\n",
       "      <td>1</td>\n",
       "      <td>0</td>\n",
       "      <td>0</td>\n",
       "      <td>1</td>\n",
       "      <td>0</td>\n",
       "      <td>1</td>\n",
       "    </tr>\n",
       "    <tr>\n",
       "      <th>...</th>\n",
       "      <td>...</td>\n",
       "      <td>...</td>\n",
       "      <td>...</td>\n",
       "      <td>...</td>\n",
       "      <td>...</td>\n",
       "      <td>...</td>\n",
       "      <td>...</td>\n",
       "      <td>...</td>\n",
       "      <td>...</td>\n",
       "      <td>...</td>\n",
       "      <td>...</td>\n",
       "      <td>...</td>\n",
       "      <td>...</td>\n",
       "      <td>...</td>\n",
       "      <td>...</td>\n",
       "      <td>...</td>\n",
       "      <td>...</td>\n",
       "      <td>...</td>\n",
       "      <td>...</td>\n",
       "      <td>...</td>\n",
       "      <td>...</td>\n",
       "    </tr>\n",
       "    <tr>\n",
       "      <th>12482</th>\n",
       "      <td>No Urgent Place</td>\n",
       "      <td>Friend(s)</td>\n",
       "      <td>Sunny</td>\n",
       "      <td>55</td>\n",
       "      <td>10PM</td>\n",
       "      <td>Bar</td>\n",
       "      <td>2h</td>\n",
       "      <td>Female</td>\n",
       "      <td>26</td>\n",
       "      <td>Unmarried partner</td>\n",
       "      <td>...</td>\n",
       "      <td>never</td>\n",
       "      <td>4~8</td>\n",
       "      <td>4~8</td>\n",
       "      <td>less1</td>\n",
       "      <td>1</td>\n",
       "      <td>1</td>\n",
       "      <td>0</td>\n",
       "      <td>0</td>\n",
       "      <td>1</td>\n",
       "      <td>1</td>\n",
       "    </tr>\n",
       "    <tr>\n",
       "      <th>12485</th>\n",
       "      <td>No Urgent Place</td>\n",
       "      <td>Alone</td>\n",
       "      <td>Rainy</td>\n",
       "      <td>55</td>\n",
       "      <td>10AM</td>\n",
       "      <td>Bar</td>\n",
       "      <td>1d</td>\n",
       "      <td>Female</td>\n",
       "      <td>26</td>\n",
       "      <td>Unmarried partner</td>\n",
       "      <td>...</td>\n",
       "      <td>never</td>\n",
       "      <td>4~8</td>\n",
       "      <td>4~8</td>\n",
       "      <td>less1</td>\n",
       "      <td>1</td>\n",
       "      <td>1</td>\n",
       "      <td>0</td>\n",
       "      <td>0</td>\n",
       "      <td>1</td>\n",
       "      <td>1</td>\n",
       "    </tr>\n",
       "    <tr>\n",
       "      <th>12488</th>\n",
       "      <td>No Urgent Place</td>\n",
       "      <td>Partner</td>\n",
       "      <td>Rainy</td>\n",
       "      <td>55</td>\n",
       "      <td>6PM</td>\n",
       "      <td>Bar</td>\n",
       "      <td>2h</td>\n",
       "      <td>Female</td>\n",
       "      <td>26</td>\n",
       "      <td>Unmarried partner</td>\n",
       "      <td>...</td>\n",
       "      <td>never</td>\n",
       "      <td>4~8</td>\n",
       "      <td>4~8</td>\n",
       "      <td>less1</td>\n",
       "      <td>1</td>\n",
       "      <td>1</td>\n",
       "      <td>0</td>\n",
       "      <td>0</td>\n",
       "      <td>1</td>\n",
       "      <td>1</td>\n",
       "    </tr>\n",
       "    <tr>\n",
       "      <th>12525</th>\n",
       "      <td>No Urgent Place</td>\n",
       "      <td>Friend(s)</td>\n",
       "      <td>Sunny</td>\n",
       "      <td>80</td>\n",
       "      <td>10PM</td>\n",
       "      <td>Bar</td>\n",
       "      <td>1d</td>\n",
       "      <td>Male</td>\n",
       "      <td>21</td>\n",
       "      <td>Unmarried partner</td>\n",
       "      <td>...</td>\n",
       "      <td>never</td>\n",
       "      <td>gt8</td>\n",
       "      <td>4~8</td>\n",
       "      <td>1~3</td>\n",
       "      <td>1</td>\n",
       "      <td>1</td>\n",
       "      <td>0</td>\n",
       "      <td>0</td>\n",
       "      <td>1</td>\n",
       "      <td>1</td>\n",
       "    </tr>\n",
       "    <tr>\n",
       "      <th>12526</th>\n",
       "      <td>No Urgent Place</td>\n",
       "      <td>Friend(s)</td>\n",
       "      <td>Sunny</td>\n",
       "      <td>55</td>\n",
       "      <td>10PM</td>\n",
       "      <td>Bar</td>\n",
       "      <td>2h</td>\n",
       "      <td>Male</td>\n",
       "      <td>21</td>\n",
       "      <td>Unmarried partner</td>\n",
       "      <td>...</td>\n",
       "      <td>never</td>\n",
       "      <td>gt8</td>\n",
       "      <td>4~8</td>\n",
       "      <td>1~3</td>\n",
       "      <td>1</td>\n",
       "      <td>1</td>\n",
       "      <td>0</td>\n",
       "      <td>0</td>\n",
       "      <td>1</td>\n",
       "      <td>1</td>\n",
       "    </tr>\n",
       "  </tbody>\n",
       "</table>\n",
       "<p>466 rows × 26 columns</p>\n",
       "</div>"
      ],
      "text/plain": [
       "           destination  passanger weather  temperature  time coupon  \\\n",
       "13                Home      Alone   Sunny           55   6PM    Bar   \n",
       "90     No Urgent Place  Friend(s)   Sunny           80  10AM    Bar   \n",
       "101               Home      Alone   Sunny           55   6PM    Bar   \n",
       "112    No Urgent Place  Friend(s)   Sunny           80  10AM    Bar   \n",
       "123               Home      Alone   Sunny           55   6PM    Bar   \n",
       "...                ...        ...     ...          ...   ...    ...   \n",
       "12482  No Urgent Place  Friend(s)   Sunny           55  10PM    Bar   \n",
       "12485  No Urgent Place      Alone   Rainy           55  10AM    Bar   \n",
       "12488  No Urgent Place    Partner   Rainy           55   6PM    Bar   \n",
       "12525  No Urgent Place  Friend(s)   Sunny           80  10PM    Bar   \n",
       "12526  No Urgent Place  Friend(s)   Sunny           55  10PM    Bar   \n",
       "\n",
       "      expiration  gender  age      maritalStatus  ...  CoffeeHouse CarryAway  \\\n",
       "13            1d  Female   21  Unmarried partner  ...        never     never   \n",
       "90            1d    Male   21             Single  ...        less1       1~3   \n",
       "101           1d    Male   21             Single  ...        less1       1~3   \n",
       "112           1d    Male   26  Unmarried partner  ...          gt8       4~8   \n",
       "123           1d    Male   26  Unmarried partner  ...          gt8       4~8   \n",
       "...          ...     ...  ...                ...  ...          ...       ...   \n",
       "12482         2h  Female   26  Unmarried partner  ...        never       4~8   \n",
       "12485         1d  Female   26  Unmarried partner  ...        never       4~8   \n",
       "12488         2h  Female   26  Unmarried partner  ...        never       4~8   \n",
       "12525         1d    Male   21  Unmarried partner  ...        never       gt8   \n",
       "12526         2h    Male   21  Unmarried partner  ...        never       gt8   \n",
       "\n",
       "      RestaurantLessThan20 Restaurant20To50 toCoupon_GEQ5min  \\\n",
       "13                     4~8              1~3                1   \n",
       "90                   less1              1~3                1   \n",
       "101                  less1              1~3                1   \n",
       "112                    1~3            less1                1   \n",
       "123                    1~3            less1                1   \n",
       "...                    ...              ...              ...   \n",
       "12482                  4~8            less1                1   \n",
       "12485                  4~8            less1                1   \n",
       "12488                  4~8            less1                1   \n",
       "12525                  4~8              1~3                1   \n",
       "12526                  4~8              1~3                1   \n",
       "\n",
       "      toCoupon_GEQ15min toCoupon_GEQ25min direction_same direction_opp  Y  \n",
       "13                    0                 0              1             0  1  \n",
       "90                    0                 0              0             1  1  \n",
       "101                   0                 0              1             0  1  \n",
       "112                   0                 0              0             1  1  \n",
       "123                   0                 0              1             0  1  \n",
       "...                 ...               ...            ...           ... ..  \n",
       "12482                 1                 0              0             1  1  \n",
       "12485                 1                 0              0             1  1  \n",
       "12488                 1                 0              0             1  1  \n",
       "12525                 1                 0              0             1  1  \n",
       "12526                 1                 0              0             1  1  \n",
       "\n",
       "[466 rows x 26 columns]"
      ]
     },
     "execution_count": 148,
     "metadata": {},
     "output_type": "execute_result"
    }
   ],
   "source": [
    "#Set Conditions \n",
    "#Data_Cond1 = DataBar.query(\"Bar in@bar_count_fr_qstn_5 and passanger != 'Kids(s)' and maritalStatus != 'widowed' \") \n",
    "#Data_Cond2 = DataBar.query(\"Bar in@bar_count_fr_qstn_5 and age<30\")\n",
    "#Data_Cond3 = DataBar.query(\" (RestaurantLessThan20 == '4~8' or RestaurantLessThan20 == 'gt8') and (income in@income_lt50)\") \n",
    "\n",
    "#data_cond1 = DataBar.Bar.isin(bar_count_fr_qstn_5) & (DataBar.passanger != 'Kids(s)' ) & (DataBar.maritalStatus != 'widowed')\n",
    "#data_cond2 = DataBar.Bar.isin(bar_count_fr_qstn_5) & (DataBar.age<30)\n",
    "#data_cond3 = DataBar.RestaurantLessThan20.isin(['4~8','gt8']) & (DataBar.income.isin(income_lt50))\n",
    "\n",
    "#combined_condition = data_cond1 | data_cond2 | data_cond3\n",
    "#data_qstn_5= DataBar[combined_condition]\n",
    "#data_qstn_5_Y = data_qstn_5[data_qstn_5.Y==1] \n",
    "#data_qstn_5_Y\n",
    "#data_cond = DataBar.query((\"(Bar in@bar_count_fr_qstn_5 and passanger != 'Kids(s)' and maritalStatus != 'widowed')\" )| (\"(Bar in@bar_count_fr_qstn_5 and age<30)\") | (\"(RestaurantLessThan20 == '4~8' or RestaurantLessThan20 == 'gt8') and (income in@income_lt50)\"))\n",
    "#data_cond\n",
    "\n",
    "\n",
    "\n",
    "# data[data.BAR.isin([...]) \n",
    "\n",
    "#condition_1 = DataBar[DataBar.Bar.isin(bar_count_fr_qstn_5)] and \n",
    "#condition_2 = DataBar['passanger]!= 'kid(s)' and DataBar[maritalStatus]!= 'widowed'\n",
    "#condition_2\n",
    "\n",
    "#condition_1 = (OtherQstn5['Bar'] > 1) & (OtherQstn5['passanger'] != \"Kid(s)\") & (OtherQstn5['maritalStatus'] != \"Widowed\")\n",
    "\n",
    "#condition1 = DataBar['maritalStatus'] != \"Widowed\"\n",
    "#condition2 = DataBar['passanger'] != 'Kids(s)'\n",
    "\n"
   ]
  },
  {
   "cell_type": "code",
   "execution_count": 5,
   "metadata": {
    "id": "aK_wEzx7_qRK"
   },
   "outputs": [],
   "source": [
    "#condition_1= DataBar.query(\"Bar in@bar_count_fr_qstn_5 and passanger != 'Kids(s)' and passanger != 'widowed' and Y==1 \").shape[0]\n",
    "#condition_1\n",
    "#condition_1= 410\n",
    "\n",
    "#Acpt1_qstn6 = (condition_1/BarCouponCount)*100\n",
    "#Acpt1_qstn6  \n",
    "#Acpt1_qstn6= 20.32721864154685\n",
    "\n",
    "#condition_2= DataBar.query(\"Bar in@bar_count_fr_qstn_5 and age<30 and Y==1\").shape[0]\n",
    "#condition_\n",
    "#condition_2=249\n",
    "#Acpt2_qstn6 = (condition_2/BarCouponCount)*100\n",
    "#Acpt2_qstn6\n",
    "#Acpt2_qstn6= 12.345066931085771\n",
    "\n",
    "#income_lt50 = ['$37500 - $49999','$12500 - $24999','$25000 - $37499','Less than $12500']\n",
    "#condition_3 = DataBar.query(\" (RestaurantLessThan20 == '4~8' or RestaurantLessThan20 == 'gt8') and (income in@income_lt50) and Y==1 \").shape[0]\n",
    "#condition_3\n",
    "#condition_ = 156\n",
    "\n",
    "#Acpt3_qstn6 = (condition_3/BarCouponCount)*100\n",
    "#Acpt3_qstn6 \n",
    "\n",
    "#Acpt3_qstn6= 7.734258800198314\n",
    "\n",
    "#Acpt4_qstn6 = ((condition_1 + condition_2+ condition_3)/BarCouponCount)*100\n",
    "#Acpt4_qstn6\n",
    "\n",
    "#Acpt4_qstn6= 40.406544372830936\n"
   ]
  },
  {
   "cell_type": "markdown",
   "metadata": {
    "id": "v3fL3QkO_qRK"
   },
   "source": [
    "7.  Based on these observations, what do you hypothesize about drivers who accepted the bar coupons?"
   ]
  },
  {
   "cell_type": "code",
   "execution_count": null,
   "metadata": {
    "id": "Y48naDFh_qRL"
   },
   "outputs": [],
   "source": [
    "# Hpothesis so far is that- \n",
    "# 1. drivers who goes to Bar more than once a month are more likely to accept the Bar coupon\n",
    "# 2. drivers who go to bars more than once a month and had passengers that were not a kid and had occupations other than farming, \n",
    "     #fishing, or forestry. are more likely to accept the Bar coupon\n",
    "\n",
    "\n"
   ]
  },
  {
   "cell_type": "markdown",
   "metadata": {
    "id": "r4Hu1zOb_qRL"
   },
   "source": [
    "### Independent Investigation\n",
    "\n",
    "Using the bar coupon example as motivation, you are to explore one of the other coupon groups and try to determine the characteristics of passengers who accept the coupons.  "
   ]
  },
  {
   "cell_type": "code",
   "execution_count": null,
   "metadata": {
    "id": "0c71cQhu_qRL"
   },
   "outputs": [],
   "source": [
    "# 1. Find acceptance rate of customers who visited restaurants 20-50(high end restaurants) having kids vs not having kids\n",
    "# 2. Find acceptance rate of customers who visited restaurants 20-50(high end restaurants) having earning more than 50K\n",
    "# 3. Find acceptance rate of customers who visited restaurants 20-50(high end restaurants) having kids and high earning\n",
    "# 4. Find acceptance rate of customers who visited restaurants 20-50(high end restaurants) having kids and high earning - Who visited less than once \n",
    "# a month vs who visited more than a month\n",
    "\n",
    "# 5. compare direction same vs opposite from query 4\n",
    "\n"
   ]
  },
  {
   "cell_type": "code",
   "execution_count": 107,
   "metadata": {},
   "outputs": [],
   "source": [
    "# Making arrays of High Income and low Income groups\n",
    "HighIncome =['$50000 - $62499', '$62500 - $74999', '$75000 - $87499', '$87500 - $99999', '$100000 or More']\n",
    "lowIncome = ['Less than $12500' ,'$12500 - $24999', '$25000 - $37499', '$37500 - $49999']\n",
    "VstMorthan3 = ['gt8','4~8']\n"
   ]
  },
  {
   "cell_type": "code",
   "execution_count": 109,
   "metadata": {},
   "outputs": [
    {
     "data": {
      "text/plain": [
       "657"
      ]
     },
     "execution_count": 109,
     "metadata": {},
     "output_type": "execute_result"
    }
   ],
   "source": [
    "# Find the count of drivers who accepted high income restaurant\n",
    "TotalCsrstddHighEndRst = data.query(\" coupon == 'Restaurant(20-50)' and Y==1 \").shape[0]\n",
    "TotalCsrstddHighEndRst   \n"
   ]
  },
  {
   "cell_type": "code",
   "execution_count": 110,
   "metadata": {},
   "outputs": [
    {
     "data": {
      "text/plain": [
       "1488"
      ]
     },
     "execution_count": 110,
     "metadata": {},
     "output_type": "execute_result"
    }
   ],
   "source": [
    "# Find the count of drivers visited high income restaurant \n",
    "TotalCsrOfrdHighEndRst = data.query(\" coupon == 'Restaurant(20-50)' \").shape[0]\n",
    "TotalCsrOfrdHighEndRst   \n"
   ]
  },
  {
   "cell_type": "code",
   "execution_count": 113,
   "metadata": {},
   "outputs": [
    {
     "data": {
      "text/plain": [
       "44.153225806451616"
      ]
     },
     "execution_count": 113,
     "metadata": {},
     "output_type": "execute_result"
    }
   ],
   "source": [
    "#Acceptance rate of drivers who accepted high end restaurant coupon \n",
    "Acptnc_Rate_High_End_Rst = (TotalCsrstddHighEndRst/TotalCsrOfrdHighEndRst)*100\n",
    "Acptnc_Rate_High_End_Rst"
   ]
  },
  {
   "cell_type": "code",
   "execution_count": 122,
   "metadata": {},
   "outputs": [
    {
     "data": {
      "text/plain": [
       "79"
      ]
     },
     "execution_count": 122,
     "metadata": {},
     "output_type": "execute_result"
    }
   ],
   "source": [
    "# Find the count of drivers visited high income restaurant more than 3 times a month and and Accepted\n",
    "drivers_visited_high_rest_and_accepted = data.query(\" coupon == 'Restaurant(20-50)' and Y==1 and Restaurant20To50 in @VstMorthan3\").shape[0]\n",
    "drivers_visited_high_rest_and_accepted"
   ]
  },
  {
   "cell_type": "code",
   "execution_count": 123,
   "metadata": {},
   "outputs": [
    {
     "data": {
      "text/plain": [
       "123"
      ]
     },
     "execution_count": 123,
     "metadata": {},
     "output_type": "execute_result"
    }
   ],
   "source": [
    "# Find the count of drivers visited high income restaurant more than 3 times a month\n",
    "drivers_visited_high_rest = data.query(\" coupon == 'Restaurant(20-50)' and Restaurant20To50 in @VstMorthan3\").shape[0]\n",
    "drivers_visited_high_rest"
   ]
  },
  {
   "cell_type": "code",
   "execution_count": 124,
   "metadata": {},
   "outputs": [
    {
     "data": {
      "text/plain": [
       "64.22764227642277"
      ]
     },
     "execution_count": 124,
     "metadata": {},
     "output_type": "execute_result"
    }
   ],
   "source": [
    "#Calculate the acceptance rate of drivers visiting high end restaurant more than 3 times a month accepting high end restaurant coupon\n",
    "AccptRtHigh= (drivers_visited_high_rest_and_accepted/drivers_visited_high_rest)*100\n",
    "AccptRtHigh"
   ]
  },
  {
   "cell_type": "code",
   "execution_count": 6,
   "metadata": {},
   "outputs": [],
   "source": [
    "#Find unique values in income column\n",
    "#unique_income = data['income'].unique()\n",
    "#unique_income\n",
    "#HighIncome =['$50000 - $62499', '$62500 - $74999', '$75000 - $87499', '$87500 - $99999', '$100000 or More']\n",
    "#lowIncome = ['Less than $12500' ,'$12500 - $24999', '$25000 - $37499', '$37500 - $49999']\n",
    "\n",
    "#TotalCsrVstdHighEndRst = data.query(\" coupon == 'Restaurant(20-50)' and Y==1 \").shape[0]\n",
    "#TotalCsrVstdHighEndRst   \n",
    "#TotalCsrVstdHighEndRst= 656\n",
    "\n",
    "#CsrVstdHighEndRstHighIncome = data.query(\"income in @HighIncome and Y==1 and coupon == 'Restaurant(20-50)' \" ).shape[0]\n",
    "#CsrVstdHighEndRstHighIncome\n",
    "#CsrVstdHighEndRstHighIncome =325\n",
    "\n",
    "#Proportion = (CsrVstdHighEndRstHighIncome/TotalCsrVstdHighEndRst)*100\n",
    "#Proportion = 49.542682926829265\n",
    "\n",
    "\n",
    "#CsrVstdHighEndRstLowIncome =  data.query(\"income in @lowIncome and Y==1 and coupon == 'Restaurant(20-50)' \" ).shape[0]"
   ]
  },
  {
   "cell_type": "code",
   "execution_count": null,
   "metadata": {},
   "outputs": [],
   "source": [
    "# Find the percentage of customers who accepted  high end restaurant coupon were alone\n",
    "\n"
   ]
  },
  {
   "cell_type": "code",
   "execution_count": 128,
   "metadata": {},
   "outputs": [
    {
     "data": {
      "text/plain": [
       "426"
      ]
     },
     "execution_count": 128,
     "metadata": {},
     "output_type": "execute_result"
    }
   ],
   "source": [
    "# Find the count of drivers who accepted  high end restaurant coupon were alone\n",
    "drvr_alone_acpt = data.query(\" coupon == 'Restaurant(20-50)' and Y== 1 and passanger =='Alone'\").shape[0]\n",
    "drvr_alone_acpt"
   ]
  },
  {
   "cell_type": "code",
   "execution_count": 127,
   "metadata": {},
   "outputs": [
    {
     "data": {
      "text/plain": [
       "1006"
      ]
     },
     "execution_count": 127,
     "metadata": {},
     "output_type": "execute_result"
    }
   ],
   "source": [
    "# Find the count of drivers who were offered  high end restaurant coupon were alone\n",
    "drvr_alone_ofrd = data.query(\" coupon == 'Restaurant(20-50)' and passanger =='Alone'\").shape[0]\n",
    "drvr_alone_ofrd"
   ]
  },
  {
   "cell_type": "code",
   "execution_count": 129,
   "metadata": {},
   "outputs": [
    {
     "data": {
      "text/plain": [
       "42.34592445328032"
      ]
     },
     "execution_count": 129,
     "metadata": {},
     "output_type": "execute_result"
    }
   ],
   "source": [
    "#calculate percentage of drivers accepting high end restaurant who are alone\n",
    "Accpt_Rt_high_Alone =  (drvr_alone_acpt/drvr_alone_ofrd)*100\n",
    "Accpt_Rt_high_Alone"
   ]
  },
  {
   "cell_type": "code",
   "execution_count": 130,
   "metadata": {},
   "outputs": [
    {
     "data": {
      "text/plain": [
       "231"
      ]
     },
     "execution_count": 130,
     "metadata": {},
     "output_type": "execute_result"
    }
   ],
   "source": [
    "# Find the count of drivers who accepted  high end restaurant coupon were not alone\n",
    "drvr_Notalone_acpt = data.query(\" coupon == 'Restaurant(20-50)' and Y== 1 and passanger !='Alone'\").shape[0]\n",
    "drvr_Notalone_acpt"
   ]
  },
  {
   "cell_type": "code",
   "execution_count": 131,
   "metadata": {},
   "outputs": [
    {
     "data": {
      "text/plain": [
       "482"
      ]
     },
     "execution_count": 131,
     "metadata": {},
     "output_type": "execute_result"
    }
   ],
   "source": [
    "# Find the count of drivers who were offered  high end restaurant coupon were not alone\n",
    "drvr_Notalone_ofrd = data.query(\" coupon == 'Restaurant(20-50)' and passanger !='Alone'\").shape[0]\n",
    "drvr_Notalone_ofrd"
   ]
  },
  {
   "cell_type": "code",
   "execution_count": 132,
   "metadata": {},
   "outputs": [
    {
     "data": {
      "text/plain": [
       "47.9253112033195"
      ]
     },
     "execution_count": 132,
     "metadata": {},
     "output_type": "execute_result"
    }
   ],
   "source": [
    "#calculate percentage of drivers accepting high end restaurant who are alone\n",
    "Accpt_Rt_high_NotAlone =  (drvr_Notalone_acpt/drvr_Notalone_ofrd)*100\n",
    "Accpt_Rt_high_NotAlone"
   ]
  },
  {
   "cell_type": "code",
   "execution_count": 134,
   "metadata": {},
   "outputs": [
    {
     "name": "stdout",
     "output_type": "stream",
     "text": [
      "Acceptance rate of Drivers who accepted high end restaurant and were alone 42.34592445328032\n",
      "Acceptance rato of Drivers who accepted high end restaurant and were not alone 47.9253112033195\n"
     ]
    }
   ],
   "source": [
    "print(\"Acceptance rate of Drivers who accepted high end restaurant and were alone\", Accpt_Rt_high_Alone)\n",
    "print(\"Acceptance rato of Drivers who accepted high end restaurant and were not alone\",Accpt_Rt_high_NotAlone)\n",
    "\n",
    "\n"
   ]
  },
  {
   "cell_type": "code",
   "execution_count": null,
   "metadata": {},
   "outputs": [],
   "source": [
    "# Conclusion\n",
    "#Clearly Acceptance rato of Drivers who accepted high end restaurant and were not alone is higer than \n",
    "#Acceptance rate of Drivers who accepted high end restaurant and were alone\""
   ]
  },
  {
   "cell_type": "code",
   "execution_count": 48,
   "metadata": {},
   "outputs": [
    {
     "data": {
      "text/plain": [
       "78"
      ]
     },
     "execution_count": 48,
     "metadata": {},
     "output_type": "execute_result"
    }
   ],
   "source": [
    "# Find the percentage of customers who visited high end restaurants were accompanied by kids\n",
    "\n",
    "CsrVstdHighEndRstHvngKids = data.query(\" coupon == 'Restaurant(20-50)' and Y==1  and passanger == 'Kid(s)'\").shape[0]\n",
    "CsrVstdHighEndRstHvngKids\n",
    "CsrVstdHighEndRstHvngKids =63\n",
    "\n",
    "CsrVstdHighEndRstAlone = data.query(\" coupon == 'Restaurant(20-50)' and Y==1  and passanger == 'Alone'\").shape[0]\n",
    "CsrVstdHighEndRstAlone\n",
    "\n",
    "#CsrVstdHighEndRstAlone = 426 : This is surprising. customers alone are going to high end restaurants more\n",
    "\n",
    "#Proportion2 = (CsrVstdHighEndRstAlone/TotalCsrVstdHighEndRst)*100\n",
    "#Proportion2 = 64.9390243902439 : 64 % of customers traveling Alone has visited high end restaurants\n",
    "\n",
    "# Find how many of this 64% were travling were on the direction vs how many were against\n",
    "\n",
    "#CsrVstdHighEndRstAloneTrvlingInDrctn = data.query(\" coupon == 'Restaurant(20-50)' and Y==1  and passanger == 'Alone' and direction_same==1\").shape[0]\n",
    "#CsrVstdHighEndRstAloneTrvlingInDrctn = 93\n",
    "\n",
    "#CsrVstdHighEndRstAloneTrvlingOppDrctn = data.query(\" coupon == 'Restaurant(20-50)' and Y==1  and passanger == 'Alone' and direction_opp ==1\").shape[0]\n",
    "#CsrVstdHighEndRstAloneTrvlingOppDrctn = 333\n",
    "\n",
    "#Findings- Customer driving alone has high chance of going to a high end restaurant\n",
    "\n"
   ]
  },
  {
   "cell_type": "code",
   "execution_count": null,
   "metadata": {
    "id": "QEsBkvIN_qRL"
   },
   "outputs": [],
   "source": [
    "# Find what proportion of coffee house coupons were accepted\n",
    "# Find which type of customers are likely to visit coffee houses\n",
    "# Find which type of customers visited coffee house the most\n",
    "\n"
   ]
  },
  {
   "cell_type": "code",
   "execution_count": 135,
   "metadata": {
    "id": "fTC2WGE3_qRL"
   },
   "outputs": [
    {
     "data": {
      "text/html": [
       "<div>\n",
       "<style scoped>\n",
       "    .dataframe tbody tr th:only-of-type {\n",
       "        vertical-align: middle;\n",
       "    }\n",
       "\n",
       "    .dataframe tbody tr th {\n",
       "        vertical-align: top;\n",
       "    }\n",
       "\n",
       "    .dataframe thead th {\n",
       "        text-align: right;\n",
       "    }\n",
       "</style>\n",
       "<table border=\"1\" class=\"dataframe\">\n",
       "  <thead>\n",
       "    <tr style=\"text-align: right;\">\n",
       "      <th></th>\n",
       "      <th>destination</th>\n",
       "      <th>passanger</th>\n",
       "      <th>weather</th>\n",
       "      <th>temperature</th>\n",
       "      <th>time</th>\n",
       "      <th>coupon</th>\n",
       "      <th>expiration</th>\n",
       "      <th>gender</th>\n",
       "      <th>age</th>\n",
       "      <th>maritalStatus</th>\n",
       "      <th>...</th>\n",
       "      <th>CoffeeHouse</th>\n",
       "      <th>CarryAway</th>\n",
       "      <th>RestaurantLessThan20</th>\n",
       "      <th>Restaurant20To50</th>\n",
       "      <th>toCoupon_GEQ5min</th>\n",
       "      <th>toCoupon_GEQ15min</th>\n",
       "      <th>toCoupon_GEQ25min</th>\n",
       "      <th>direction_same</th>\n",
       "      <th>direction_opp</th>\n",
       "      <th>Y</th>\n",
       "    </tr>\n",
       "  </thead>\n",
       "  <tbody>\n",
       "    <tr>\n",
       "      <th>12</th>\n",
       "      <td>No Urgent Place</td>\n",
       "      <td>Kid(s)</td>\n",
       "      <td>Sunny</td>\n",
       "      <td>55</td>\n",
       "      <td>6PM</td>\n",
       "      <td>Coffee House</td>\n",
       "      <td>2h</td>\n",
       "      <td>Female</td>\n",
       "      <td>21</td>\n",
       "      <td>Unmarried partner</td>\n",
       "      <td>...</td>\n",
       "      <td>never</td>\n",
       "      <td>never</td>\n",
       "      <td>4~8</td>\n",
       "      <td>1~3</td>\n",
       "      <td>1</td>\n",
       "      <td>1</td>\n",
       "      <td>0</td>\n",
       "      <td>0</td>\n",
       "      <td>1</td>\n",
       "      <td>1</td>\n",
       "    </tr>\n",
       "    <tr>\n",
       "      <th>16</th>\n",
       "      <td>Work</td>\n",
       "      <td>Alone</td>\n",
       "      <td>Sunny</td>\n",
       "      <td>55</td>\n",
       "      <td>7AM</td>\n",
       "      <td>Coffee House</td>\n",
       "      <td>2h</td>\n",
       "      <td>Female</td>\n",
       "      <td>21</td>\n",
       "      <td>Unmarried partner</td>\n",
       "      <td>...</td>\n",
       "      <td>never</td>\n",
       "      <td>never</td>\n",
       "      <td>4~8</td>\n",
       "      <td>1~3</td>\n",
       "      <td>1</td>\n",
       "      <td>1</td>\n",
       "      <td>1</td>\n",
       "      <td>0</td>\n",
       "      <td>1</td>\n",
       "      <td>1</td>\n",
       "    </tr>\n",
       "    <tr>\n",
       "      <th>21</th>\n",
       "      <td>Work</td>\n",
       "      <td>Alone</td>\n",
       "      <td>Sunny</td>\n",
       "      <td>55</td>\n",
       "      <td>7AM</td>\n",
       "      <td>Coffee House</td>\n",
       "      <td>2h</td>\n",
       "      <td>Female</td>\n",
       "      <td>21</td>\n",
       "      <td>Unmarried partner</td>\n",
       "      <td>...</td>\n",
       "      <td>never</td>\n",
       "      <td>never</td>\n",
       "      <td>4~8</td>\n",
       "      <td>1~3</td>\n",
       "      <td>1</td>\n",
       "      <td>1</td>\n",
       "      <td>0</td>\n",
       "      <td>0</td>\n",
       "      <td>1</td>\n",
       "      <td>1</td>\n",
       "    </tr>\n",
       "    <tr>\n",
       "      <th>45</th>\n",
       "      <td>No Urgent Place</td>\n",
       "      <td>Friend(s)</td>\n",
       "      <td>Sunny</td>\n",
       "      <td>80</td>\n",
       "      <td>10AM</td>\n",
       "      <td>Coffee House</td>\n",
       "      <td>2h</td>\n",
       "      <td>Male</td>\n",
       "      <td>46</td>\n",
       "      <td>Single</td>\n",
       "      <td>...</td>\n",
       "      <td>4~8</td>\n",
       "      <td>1~3</td>\n",
       "      <td>1~3</td>\n",
       "      <td>never</td>\n",
       "      <td>1</td>\n",
       "      <td>0</td>\n",
       "      <td>0</td>\n",
       "      <td>0</td>\n",
       "      <td>1</td>\n",
       "      <td>1</td>\n",
       "    </tr>\n",
       "    <tr>\n",
       "      <th>48</th>\n",
       "      <td>No Urgent Place</td>\n",
       "      <td>Friend(s)</td>\n",
       "      <td>Sunny</td>\n",
       "      <td>80</td>\n",
       "      <td>2PM</td>\n",
       "      <td>Coffee House</td>\n",
       "      <td>1d</td>\n",
       "      <td>Male</td>\n",
       "      <td>46</td>\n",
       "      <td>Single</td>\n",
       "      <td>...</td>\n",
       "      <td>4~8</td>\n",
       "      <td>1~3</td>\n",
       "      <td>1~3</td>\n",
       "      <td>never</td>\n",
       "      <td>1</td>\n",
       "      <td>0</td>\n",
       "      <td>0</td>\n",
       "      <td>0</td>\n",
       "      <td>1</td>\n",
       "      <td>1</td>\n",
       "    </tr>\n",
       "    <tr>\n",
       "      <th>...</th>\n",
       "      <td>...</td>\n",
       "      <td>...</td>\n",
       "      <td>...</td>\n",
       "      <td>...</td>\n",
       "      <td>...</td>\n",
       "      <td>...</td>\n",
       "      <td>...</td>\n",
       "      <td>...</td>\n",
       "      <td>...</td>\n",
       "      <td>...</td>\n",
       "      <td>...</td>\n",
       "      <td>...</td>\n",
       "      <td>...</td>\n",
       "      <td>...</td>\n",
       "      <td>...</td>\n",
       "      <td>...</td>\n",
       "      <td>...</td>\n",
       "      <td>...</td>\n",
       "      <td>...</td>\n",
       "      <td>...</td>\n",
       "      <td>...</td>\n",
       "    </tr>\n",
       "    <tr>\n",
       "      <th>12579</th>\n",
       "      <td>Home</td>\n",
       "      <td>Alone</td>\n",
       "      <td>Rainy</td>\n",
       "      <td>55</td>\n",
       "      <td>10PM</td>\n",
       "      <td>Coffee House</td>\n",
       "      <td>2h</td>\n",
       "      <td>Male</td>\n",
       "      <td>21</td>\n",
       "      <td>Single</td>\n",
       "      <td>...</td>\n",
       "      <td>never</td>\n",
       "      <td>1~3</td>\n",
       "      <td>1~3</td>\n",
       "      <td>less1</td>\n",
       "      <td>1</td>\n",
       "      <td>0</td>\n",
       "      <td>0</td>\n",
       "      <td>1</td>\n",
       "      <td>0</td>\n",
       "      <td>1</td>\n",
       "    </tr>\n",
       "    <tr>\n",
       "      <th>12601</th>\n",
       "      <td>Home</td>\n",
       "      <td>Alone</td>\n",
       "      <td>Rainy</td>\n",
       "      <td>55</td>\n",
       "      <td>10PM</td>\n",
       "      <td>Coffee House</td>\n",
       "      <td>2h</td>\n",
       "      <td>Female</td>\n",
       "      <td>51</td>\n",
       "      <td>Divorced</td>\n",
       "      <td>...</td>\n",
       "      <td>less1</td>\n",
       "      <td>1~3</td>\n",
       "      <td>1~3</td>\n",
       "      <td>less1</td>\n",
       "      <td>1</td>\n",
       "      <td>0</td>\n",
       "      <td>0</td>\n",
       "      <td>1</td>\n",
       "      <td>0</td>\n",
       "      <td>1</td>\n",
       "    </tr>\n",
       "    <tr>\n",
       "      <th>12608</th>\n",
       "      <td>Work</td>\n",
       "      <td>Alone</td>\n",
       "      <td>Snowy</td>\n",
       "      <td>30</td>\n",
       "      <td>7AM</td>\n",
       "      <td>Coffee House</td>\n",
       "      <td>1d</td>\n",
       "      <td>Female</td>\n",
       "      <td>51</td>\n",
       "      <td>Divorced</td>\n",
       "      <td>...</td>\n",
       "      <td>less1</td>\n",
       "      <td>1~3</td>\n",
       "      <td>1~3</td>\n",
       "      <td>less1</td>\n",
       "      <td>1</td>\n",
       "      <td>0</td>\n",
       "      <td>0</td>\n",
       "      <td>1</td>\n",
       "      <td>0</td>\n",
       "      <td>1</td>\n",
       "    </tr>\n",
       "    <tr>\n",
       "      <th>12624</th>\n",
       "      <td>Home</td>\n",
       "      <td>Alone</td>\n",
       "      <td>Rainy</td>\n",
       "      <td>55</td>\n",
       "      <td>10PM</td>\n",
       "      <td>Coffee House</td>\n",
       "      <td>2h</td>\n",
       "      <td>Female</td>\n",
       "      <td>21</td>\n",
       "      <td>Unmarried partner</td>\n",
       "      <td>...</td>\n",
       "      <td>4~8</td>\n",
       "      <td>1~3</td>\n",
       "      <td>1~3</td>\n",
       "      <td>less1</td>\n",
       "      <td>1</td>\n",
       "      <td>0</td>\n",
       "      <td>0</td>\n",
       "      <td>1</td>\n",
       "      <td>0</td>\n",
       "      <td>1</td>\n",
       "    </tr>\n",
       "    <tr>\n",
       "      <th>12631</th>\n",
       "      <td>Work</td>\n",
       "      <td>Alone</td>\n",
       "      <td>Snowy</td>\n",
       "      <td>30</td>\n",
       "      <td>7AM</td>\n",
       "      <td>Coffee House</td>\n",
       "      <td>1d</td>\n",
       "      <td>Female</td>\n",
       "      <td>21</td>\n",
       "      <td>Unmarried partner</td>\n",
       "      <td>...</td>\n",
       "      <td>4~8</td>\n",
       "      <td>1~3</td>\n",
       "      <td>1~3</td>\n",
       "      <td>less1</td>\n",
       "      <td>1</td>\n",
       "      <td>0</td>\n",
       "      <td>0</td>\n",
       "      <td>1</td>\n",
       "      <td>0</td>\n",
       "      <td>1</td>\n",
       "    </tr>\n",
       "  </tbody>\n",
       "</table>\n",
       "<p>1989 rows × 26 columns</p>\n",
       "</div>"
      ],
      "text/plain": [
       "           destination  passanger weather  temperature  time        coupon  \\\n",
       "12     No Urgent Place     Kid(s)   Sunny           55   6PM  Coffee House   \n",
       "16                Work      Alone   Sunny           55   7AM  Coffee House   \n",
       "21                Work      Alone   Sunny           55   7AM  Coffee House   \n",
       "45     No Urgent Place  Friend(s)   Sunny           80  10AM  Coffee House   \n",
       "48     No Urgent Place  Friend(s)   Sunny           80   2PM  Coffee House   \n",
       "...                ...        ...     ...          ...   ...           ...   \n",
       "12579             Home      Alone   Rainy           55  10PM  Coffee House   \n",
       "12601             Home      Alone   Rainy           55  10PM  Coffee House   \n",
       "12608             Work      Alone   Snowy           30   7AM  Coffee House   \n",
       "12624             Home      Alone   Rainy           55  10PM  Coffee House   \n",
       "12631             Work      Alone   Snowy           30   7AM  Coffee House   \n",
       "\n",
       "      expiration  gender  age      maritalStatus  ...  CoffeeHouse CarryAway  \\\n",
       "12            2h  Female   21  Unmarried partner  ...        never     never   \n",
       "16            2h  Female   21  Unmarried partner  ...        never     never   \n",
       "21            2h  Female   21  Unmarried partner  ...        never     never   \n",
       "45            2h    Male   46             Single  ...          4~8       1~3   \n",
       "48            1d    Male   46             Single  ...          4~8       1~3   \n",
       "...          ...     ...  ...                ...  ...          ...       ...   \n",
       "12579         2h    Male   21             Single  ...        never       1~3   \n",
       "12601         2h  Female   51           Divorced  ...        less1       1~3   \n",
       "12608         1d  Female   51           Divorced  ...        less1       1~3   \n",
       "12624         2h  Female   21  Unmarried partner  ...          4~8       1~3   \n",
       "12631         1d  Female   21  Unmarried partner  ...          4~8       1~3   \n",
       "\n",
       "      RestaurantLessThan20 Restaurant20To50 toCoupon_GEQ5min  \\\n",
       "12                     4~8              1~3                1   \n",
       "16                     4~8              1~3                1   \n",
       "21                     4~8              1~3                1   \n",
       "45                     1~3            never                1   \n",
       "48                     1~3            never                1   \n",
       "...                    ...              ...              ...   \n",
       "12579                  1~3            less1                1   \n",
       "12601                  1~3            less1                1   \n",
       "12608                  1~3            less1                1   \n",
       "12624                  1~3            less1                1   \n",
       "12631                  1~3            less1                1   \n",
       "\n",
       "      toCoupon_GEQ15min toCoupon_GEQ25min direction_same direction_opp  Y  \n",
       "12                    1                 0              0             1  1  \n",
       "16                    1                 1              0             1  1  \n",
       "21                    1                 0              0             1  1  \n",
       "45                    0                 0              0             1  1  \n",
       "48                    0                 0              0             1  1  \n",
       "...                 ...               ...            ...           ... ..  \n",
       "12579                 0                 0              1             0  1  \n",
       "12601                 0                 0              1             0  1  \n",
       "12608                 0                 0              1             0  1  \n",
       "12624                 0                 0              1             0  1  \n",
       "12631                 0                 0              1             0  1  \n",
       "\n",
       "[1989 rows x 26 columns]"
      ]
     },
     "execution_count": 135,
     "metadata": {},
     "output_type": "execute_result"
    }
   ],
   "source": [
    "coffee= data.query(\" Y==1 and coupon == 'Coffee House' \")\n",
    "coffee"
   ]
  },
  {
   "cell_type": "code",
   "execution_count": 138,
   "metadata": {
    "id": "RrqUWn7d_qRL"
   },
   "outputs": [
    {
     "data": {
      "text/plain": [
       "Text(0, 0.5, 'Driver Count')"
      ]
     },
     "execution_count": 138,
     "metadata": {},
     "output_type": "execute_result"
    },
    {
     "data": {
      "image/png": "[encoded data removed]",
      "text/plain": [
       "<Figure size 640x480 with 1 Axes>"
      ]
     },
     "metadata": {},
     "output_type": "display_data"
    }
   ],
   "source": [
    "sns.histplot(coffee, x= 'passanger', hue ='passanger')\n",
    "plt.title('Plot for passanger accepting Coffee House')\n",
    "plt.xlabel('Driver')\n",
    "plt.ylabel('Driver Count')\n",
    "           "
   ]
  },
  {
   "cell_type": "code",
   "execution_count": null,
   "metadata": {
    "id": "_oykf8YP_qRL"
   },
   "outputs": [],
   "source": [
    "# histogram clearly shows that passanger who travel alone or with friends visited coffee house the most"
   ]
  },
  {
   "cell_type": "code",
   "execution_count": null,
   "metadata": {},
   "outputs": [],
   "source": [
    "# Creating a histogram to see the type of passangers who accepted coffee house coupon. "
   ]
  },
  {
   "cell_type": "code",
   "execution_count": 58,
   "metadata": {},
   "outputs": [
    {
     "name": "stderr",
     "output_type": "stream",
     "text": [
      "C:\\Users\\viksaraw\\AppData\\Local\\Temp\\ipykernel_6084\\180081030.py:6: UserWarning: No artists with labels found to put in legend.  Note that artists whose label start with an underscore are ignored when legend() is called with no argument.\n",
      "  plt.legend(loc='best')\n"
     ]
    },
    {
     "data": {
      "image/png": "[encoded data removed]",
      "text/plain": [
       "<Figure size 640x480 with 1 Axes>"
      ]
     },
     "metadata": {},
     "output_type": "display_data"
    }
   ],
   "source": [
    "sns.histplot(coffee, x= 'occupation', hue ='occupation')\n",
    "plt.xticks(rotation = 90)\n",
    "plt.xlabel('Occupation')\n",
    "plt.ylabel('Visits')\n",
    "plt.title('Sample Bar Chart')\n",
    "plt.legend(loc='best')\n",
    "plt.show()"
   ]
  },
  {
   "cell_type": "code",
   "execution_count": null,
   "metadata": {},
   "outputs": [],
   "source": [
    "# graph clearly shows that unemployed and students were the highest visitors at coffee house"
   ]
  }
 ],
 "metadata": {
  "colab": {
   "provenance": []
  },
  "kernelspec": {
   "display_name": "Python 3 (ipykernel)",
   "language": "python",
   "name": "python3"
  },
  "language_info": {
   "codemirror_mode": {
    "name": "ipython",
    "version": 3
   },
   "file_extension": ".py",
   "mimetype": "text/x-python",
   "name": "python",
   "nbconvert_exporter": "python",
   "pygments_lexer": "ipython3",
   "version": "3.12.6"
  }
 },
 "nbformat": 4,
 "nbformat_minor": 4
}
